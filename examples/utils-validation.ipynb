{
 "metadata": {
  "name": "",
  "signature": "sha256:d286f565c5e9c0d68dad0a0af65a885195221ef2b8bb6c7a2662b6b2085f542d"
 },
 "nbformat": 3,
 "nbformat_minor": 0,
 "worksheets": [
  {
   "cells": [
    {
     "cell_type": "heading",
     "level": 1,
     "metadata": {},
     "source": [
      "`utils-validation`: Show how decorate_validation is used for disabling validation functions when disable_validation has been called"
     ]
    },
    {
     "cell_type": "markdown",
     "metadata": {},
     "source": [
      "For examples of how to use the actual validation functionality, see the validation function of some public function of magni.\n",
      "\n",
      "This example primarily shows the usage of the following functions:\n",
      "- `magni.utils.validation.decorate_validation`\n",
      "- `magni.utils.validation.disable_validation`"
     ]
    },
    {
     "cell_type": "code",
     "collapsed": false,
     "input": [
      "import magni"
     ],
     "language": "python",
     "metadata": {},
     "outputs": [],
     "prompt_number": 1
    },
    {
     "cell_type": "code",
     "collapsed": false,
     "input": [
      "# Define a decorated validation function\n",
      "@magni.utils.validation.decorate_validation\n",
      "def _validate_some_func(some_int_arg):\n",
      "    magni.utils.validation.validate(some_int_arg, 'some_int_arg', {'type': int})\n",
      "\n",
      "# Define a function which calls the validation function\n",
      "def some_func(arg):\n",
      "    _validate_some_func(arg)\n",
      "\n",
      "# Intentionally call the function with an argument violating the validation, validation is enabled\n",
      "try:\n",
      "    some_func('error')\n",
      "except TypeError:\n",
      "    print('\\nValidation is enabled: Intentional error found')\n",
      "else:\n",
      "    print('\\nValidation is enabled: Intentional error not found')\n",
      "\n",
      "magni.utils.validation.disable_validation()\n",
      "\n",
      "# Intentionally call the function with an argument violating the validation, validation is disabled\n",
      "try:\n",
      "    some_func('error')\n",
      "except TypeError:\n",
      "    print('\\nValidation is disabled: Intentional error found')\n",
      "else:\n",
      "    print('\\nValidation is disabled: Intentional error not found')\n",
      "\n",
      "# reenable validation (not to be used under normal circumstances)\n",
      "magni.utils.validation._disabled = False"
     ],
     "language": "python",
     "metadata": {},
     "outputs": [
      {
       "output_type": "stream",
       "stream": "stdout",
       "text": [
        "\n",
        "Validation is enabled: Intentional error found\n",
        "\n",
        "Validation is disabled: Intentional error not found\n"
       ]
      }
     ],
     "prompt_number": 2
    }
   ],
   "metadata": {}
  }
 ]
}
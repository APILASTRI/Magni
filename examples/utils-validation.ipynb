{
 "metadata": {
  "name": "",
  "signature": "sha256:90b2c6c5076d02f4062b81b55217d491fe15a72a75af15eab4da08fbc6d9726b"
 },
 "nbformat": 3,
 "nbformat_minor": 0,
 "worksheets": [
  {
   "cells": [
    {
     "cell_type": "heading",
     "level": 1,
     "metadata": {},
     "source": [
      "`utils-validation`: Show how decorate_validation is used for disabling validation functions when disable_validation has been called"
     ]
    },
    {
     "cell_type": "markdown",
     "metadata": {},
     "source": [
      "For examples of how to use the actual validation functionality, see the validation function of some public function of magni.\n",
      "\n",
      "This example primarily shows the usage of the following functions:\n",
      "- `magni.utils.validation.decorate_validation`\n",
      "- `magni.utils.validation.disable_validation`"
     ]
    },
    {
     "cell_type": "code",
     "collapsed": false,
     "input": [
      "import magni"
     ],
     "language": "python",
     "metadata": {},
     "outputs": [],
     "prompt_number": 1
    },
    {
     "cell_type": "code",
     "collapsed": false,
     "input": [
      "# Define a function which calls a validation function\n",
      "def some_func(arg):\n",
      "    @magni.utils.validation.decorate_validation\n",
      "    def validate_input():\n",
      "        magni.utils.validation.validate_numeric('arg', 'integer')\n",
      "    \n",
      "    validate_input()\n",
      "\n",
      "# Intentionally call the function with an argument violating the validation, validation is enabled\n",
      "try:\n",
      "    some_func('error')\n",
      "except TypeError:\n",
      "    print('\\nValidation is enabled: Intentional error found')\n",
      "else:\n",
      "    print('\\nValidation is enabled: Intentional error not found')\n",
      "\n",
      "magni.utils.validation.disable_validation()\n",
      "\n",
      "# Intentionally call the function with an argument violating the validation, validation is disabled\n",
      "try:\n",
      "    some_func('error')\n",
      "except TypeError:\n",
      "    print('\\nValidation is disabled: Intentional error found')\n",
      "else:\n",
      "    print('\\nValidation is disabled: Intentional error not found')\n",
      "\n",
      "# reenable validation (not to be used under normal circumstances)\n",
      "magni.utils.validation._disabled = False"
     ],
     "language": "python",
     "metadata": {},
     "outputs": [
      {
       "output_type": "stream",
       "stream": "stdout",
       "text": [
        "\n",
        "Validation is enabled: Intentional error found\n",
        "\n",
        "Validation is disabled: Intentional error not found\n"
       ]
      }
     ],
     "prompt_number": 2
    }
   ],
   "metadata": {}
  }
 ]
}
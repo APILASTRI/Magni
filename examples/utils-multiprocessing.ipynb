{
 "metadata": {
  "name": "",
  "signature": "sha256:00f0db29eb84dcfffef6777affd6af0ce634147ba91037143b83e1d087c43dba"
 },
 "nbformat": 3,
 "nbformat_minor": 0,
 "worksheets": [
  {
   "cells": [
    {
     "cell_type": "heading",
     "level": 1,
     "metadata": {},
     "source": [
      "`utils-multiprocessing`: Show an example of using the multiprocessing capabilities of magni to replace singleprocessing and multiprocessing map calls"
     ]
    },
    {
     "cell_type": "markdown",
     "metadata": {},
     "source": [
      "This example primarily shows the usage of the following functions:\n",
      "- `magni.utils.multiprocessing.process` -> `magni.utils.multiprocessing._processing.process`"
     ]
    },
    {
     "cell_type": "code",
     "collapsed": false,
     "input": [
      "import os\n",
      "import time\n",
      "\n",
      "import numpy as np\n",
      "\n",
      "import magni"
     ],
     "language": "python",
     "metadata": {},
     "outputs": [],
     "prompt_number": 1
    },
    {
     "cell_type": "markdown",
     "metadata": {},
     "source": [
      "Define function for displaying the computation time and results"
     ]
    },
    {
     "cell_type": "code",
     "collapsed": false,
     "input": [
      "def display_results(duration, results):\n",
      "    print('Computation time: {} s'.format(duration))\n",
      "\n",
      "    for result in results:\n",
      "        print('Worker {0} returned: {1}'.format(result[0], result[1]))\n",
      "    \n",
      "    print('\\n')"
     ],
     "language": "python",
     "metadata": {},
     "outputs": [],
     "prompt_number": 2
    },
    {
     "cell_type": "markdown",
     "metadata": {},
     "source": [
      "Define the function for the map calls"
     ]
    },
    {
     "cell_type": "code",
     "collapsed": false,
     "input": [
      "def compute(seed, sign=1, shape=(10, 10)):\n",
      "    pid = os.getpid()\n",
      "    np.random.seed(seed)\n",
      "    A = np.random.laplace(3, 2, shape)\n",
      "    B = np.random.exponential(5, shape)\n",
      "    result = sign * np.linalg.norm(A.dot(B)) / (shape[0] * shape[1])\n",
      "    return (pid, result)"
     ],
     "language": "python",
     "metadata": {},
     "outputs": [],
     "prompt_number": 3
    },
    {
     "cell_type": "markdown",
     "metadata": {},
     "source": [
      "Prepare the arguments for the map calls"
     ]
    },
    {
     "cell_type": "code",
     "collapsed": false,
     "input": [
      "# Arguments for the map calls\n",
      "seeds = range(4)\n",
      "signs = [1, 1, 1, 1]\n",
      "shapes = [(2000, 2000), (2000, 2000), (2000, 2000), (2000, 2000)]\n",
      "\n",
      "# Pack the arguments for magni multiprocessing\n",
      "args = [[seed] for seed in seeds]\n",
      "kwargs = [{'sign': sign, 'shape': shape} for sign, shape in zip(signs, shapes)]"
     ],
     "language": "python",
     "metadata": {},
     "outputs": [],
     "prompt_number": 4
    },
    {
     "cell_type": "markdown",
     "metadata": {},
     "source": [
      "Perform the computations using the built-in map function"
     ]
    },
    {
     "cell_type": "code",
     "collapsed": false,
     "input": [
      "t0 = time.time()\n",
      "results = list(map(compute, seeds, signs, shapes))\n",
      "t1 = time.time()\n",
      "\n",
      "display_results(t1 - t0, results)"
     ],
     "language": "python",
     "metadata": {},
     "outputs": [
      {
       "output_type": "stream",
       "stream": "stdout",
       "text": [
        "Computation time: 5.75910782814 s\n",
        "Worker 6651 returned: 15.0072642137\n",
        "Worker 6651 returned: 15.0094718276\n",
        "Worker 6651 returned: 15.0167583654\n",
        "Worker 6651 returned: 15.0391246776\n",
        "\n",
        "\n"
       ]
      }
     ],
     "prompt_number": 5
    },
    {
     "cell_type": "markdown",
     "metadata": {},
     "source": [
      "Perform the computations using magni with singleprocessing (workers set to 0)"
     ]
    },
    {
     "cell_type": "code",
     "collapsed": false,
     "input": [
      "magni.utils.multiprocessing.config.set(workers=0)\n",
      "\n",
      "t0 = time.time()\n",
      "results = magni.utils.multiprocessing.process(compute, args_list=args, kwargs_list=kwargs)\n",
      "t1 = time.time()\n",
      "\n",
      "display_results(t1 - t0, results)"
     ],
     "language": "python",
     "metadata": {},
     "outputs": [
      {
       "output_type": "stream",
       "stream": "stdout",
       "text": [
        "Computation time: 4.41191506386 s\n",
        "Worker 6651 returned: 15.0072642137\n",
        "Worker 6651 returned: 15.0094718276\n",
        "Worker 6651 returned: 15.0167583654\n",
        "Worker 6651 returned: 15.0391246776\n",
        "\n",
        "\n"
       ]
      }
     ],
     "prompt_number": 6
    },
    {
     "cell_type": "markdown",
     "metadata": {},
     "source": [
      "Perform the computations using magni with multiprocessing (workers set to 4)"
     ]
    },
    {
     "cell_type": "code",
     "collapsed": false,
     "input": [
      "magni.utils.multiprocessing.config.set(workers=4)\n",
      "\n",
      "t0 = time.time()\n",
      "results = magni.utils.multiprocessing.process(compute, args_list=args, kwargs_list=kwargs)\n",
      "t1 = time.time()\n",
      "\n",
      "display_results(t1 - t0, results)"
     ],
     "language": "python",
     "metadata": {},
     "outputs": [
      {
       "output_type": "stream",
       "stream": "stdout",
       "text": [
        "Computation time: 2.83882594109 s\n",
        "Worker 6671 returned: 15.0072642137\n",
        "Worker 6672 returned: 15.0094718276\n",
        "Worker 6673 returned: 15.0167583654\n",
        "Worker 6674 returned: 15.0391246776\n",
        "\n",
        "\n"
       ]
      }
     ],
     "prompt_number": 7
    }
   ],
   "metadata": {}
  }
 ]
}
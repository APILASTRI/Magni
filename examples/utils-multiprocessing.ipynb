{
 "metadata": {
  "name": "",
  "signature": "sha256:455d301628f7d786dd205b4cd14ea268e7474bd2649186ff2134976e0264049c"
 },
 "nbformat": 3,
 "nbformat_minor": 0,
 "worksheets": [
  {
   "cells": [
    {
     "cell_type": "heading",
     "level": 1,
     "metadata": {},
     "source": [
      "`utils-multiprocessing`: Show an example of using the multiprocessing capabilities of magni to replace singleprocessing and multiprocessing map calls"
     ]
    },
    {
     "cell_type": "markdown",
     "metadata": {},
     "source": [
      "This example primarily shows the usage of the following functions:\n",
      "- `magni.utils.multiprocessing.process` -> `magni.utils.multiprocessing._processing.process`"
     ]
    },
    {
     "cell_type": "code",
     "collapsed": false,
     "input": [
      "import os\n",
      "import time\n",
      "\n",
      "import numpy as np\n",
      "\n",
      "import magni"
     ],
     "language": "python",
     "metadata": {},
     "outputs": [],
     "prompt_number": 1
    },
    {
     "cell_type": "markdown",
     "metadata": {},
     "source": [
      "Define function for displaying the computation time and results"
     ]
    },
    {
     "cell_type": "code",
     "collapsed": false,
     "input": [
      "def display_results(duration, results):\n",
      "    print('Computation time: {} s'.format(duration))\n",
      "\n",
      "    for result in results:\n",
      "        print('Worker {0} returned: {1}'.format(result[0], result[1]))\n",
      "    \n",
      "    print('\\n')"
     ],
     "language": "python",
     "metadata": {},
     "outputs": [],
     "prompt_number": 2
    },
    {
     "cell_type": "markdown",
     "metadata": {},
     "source": [
      "Define the function for the map calls"
     ]
    },
    {
     "cell_type": "code",
     "collapsed": false,
     "input": [
      "def compute(seed, sign=1, shape=(10, 10)):\n",
      "    pid = os.getpid()\n",
      "    np.random.seed(seed)\n",
      "    A = np.random.laplace(3, 2, shape)\n",
      "    B = np.random.exponential(5, shape)\n",
      "    result = sign * np.linalg.norm(A.dot(B)) / (shape[0] * shape[1])\n",
      "    return (pid, result)"
     ],
     "language": "python",
     "metadata": {},
     "outputs": [],
     "prompt_number": 3
    },
    {
     "cell_type": "markdown",
     "metadata": {},
     "source": [
      "Prepare the arguments for the map calls"
     ]
    },
    {
     "cell_type": "code",
     "collapsed": false,
     "input": [
      "# Arguments for the map calls\n",
      "seeds = range(4)\n",
      "signs = [1, 1, 1, 1]\n",
      "shapes = [(2000, 2000), (2000, 2000), (2000, 2000), (2000, 2000)]\n",
      "\n",
      "# Pack the arguments for magni multiprocessing\n",
      "args = [[seed] for seed in seeds]\n",
      "kwargs = [{'sign': sign, 'shape': shape} for sign, shape in zip(signs, shapes)]"
     ],
     "language": "python",
     "metadata": {},
     "outputs": [],
     "prompt_number": 4
    },
    {
     "cell_type": "markdown",
     "metadata": {},
     "source": [
      "Perform the computations using the built-in map function"
     ]
    },
    {
     "cell_type": "code",
     "collapsed": false,
     "input": [
      "t0 = time.time()\n",
      "results = list(map(compute, seeds, signs, shapes))\n",
      "t1 = time.time()\n",
      "\n",
      "#display_results(t1 - t0, results)  # Uncomment this line to see results"
     ],
     "language": "python",
     "metadata": {},
     "outputs": [],
     "prompt_number": 5
    },
    {
     "cell_type": "markdown",
     "metadata": {},
     "source": [
      "Perform the computations using magni with singleprocessing (workers set to 0)"
     ]
    },
    {
     "cell_type": "code",
     "collapsed": false,
     "input": [
      "magni.utils.multiprocessing.config['workers'] = 0\n",
      "\n",
      "t0 = time.time()\n",
      "results = magni.utils.multiprocessing.process(compute, args_list=args, kwargs_list=kwargs)\n",
      "t1 = time.time()\n",
      "\n",
      "#display_results(t1 - t0, results)  # Uncomment this line to see results"
     ],
     "language": "python",
     "metadata": {},
     "outputs": [],
     "prompt_number": 6
    },
    {
     "cell_type": "markdown",
     "metadata": {},
     "source": [
      "Perform the computations using magni with multiprocessing (workers set to 4)"
     ]
    },
    {
     "cell_type": "code",
     "collapsed": false,
     "input": [
      "if os.name != 'nt':\n",
      "    # Not supported on Windows\n",
      "\n",
      "    magni.utils.multiprocessing.config['workers'] = 4\n",
      "\n",
      "    t0 = time.time()\n",
      "    results = magni.utils.multiprocessing.process(compute, args_list=args, kwargs_list=kwargs)\n",
      "    t1 = time.time()\n",
      "\n",
      "    #display_results(t1 - t0, results)  # Uncomment this line to see results"
     ],
     "language": "python",
     "metadata": {},
     "outputs": [],
     "prompt_number": 7
    }
   ],
   "metadata": {}
  }
 ]
}
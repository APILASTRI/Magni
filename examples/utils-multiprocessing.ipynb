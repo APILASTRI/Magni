{
 "metadata": {
  "name": ""
 },
 "nbformat": 3,
 "nbformat_minor": 0,
 "worksheets": [
  {
   "cells": [
    {
     "cell_type": "raw",
     "metadata": {},
     "source": [
      "Show an example of using the multiprocessing capabilities of magni to replace singleprocessing and multiprocessing map calls\n",
      "\n",
      "magni.utils.multiprocessing.process -> magni.utils.multiprocessing._processing.process"
     ]
    },
    {
     "cell_type": "code",
     "collapsed": false,
     "input": [
      "import os\n",
      "import time\n",
      "\n",
      "import numpy as np\n",
      "\n",
      "import magni"
     ],
     "language": "python",
     "metadata": {},
     "outputs": [],
     "prompt_number": 1
    },
    {
     "cell_type": "code",
     "collapsed": false,
     "input": [
      "# Function for displaying the computation time and results\n",
      "def display_results(duration, results):\n",
      "    print('Computation time: {} s'.format(duration))\n",
      "\n",
      "    for result in results:\n",
      "        print('Worker {0} returned: {1}'.format(result[0], result[1]))\n",
      "    \n",
      "    print('\\n')"
     ],
     "language": "python",
     "metadata": {},
     "outputs": [],
     "prompt_number": 2
    },
    {
     "cell_type": "code",
     "collapsed": false,
     "input": [
      "# The function for the map calls\n",
      "def compute(seed, sign=1, shape=(10, 10)):\n",
      "    pid = os.getpid()\n",
      "    np.random.seed(seed)\n",
      "    A = np.random.laplace(3, 2, shape)\n",
      "    B = np.random.exponential(5, shape)\n",
      "    result = sign * np.linalg.norm(A.dot(B)) / (shape[0] * shape[1])\n",
      "    return (pid, result)"
     ],
     "language": "python",
     "metadata": {},
     "outputs": [],
     "prompt_number": 3
    },
    {
     "cell_type": "code",
     "collapsed": false,
     "input": [
      "# Arguments for the map calls\n",
      "seeds = range(4)\n",
      "signs = [1, 1, 1, 1]\n",
      "shapes = [(2000, 2000), (2000, 2000), (2000, 2000), (2000, 2000)]\n",
      "\n",
      "# Pack the arguments for magni multiprocessing\n",
      "args = [[seed] for seed in seeds]\n",
      "kwargs = [{'sign': sign, 'shape': shape} for sign, shape in zip(signs, shapes)]"
     ],
     "language": "python",
     "metadata": {},
     "outputs": [],
     "prompt_number": 4
    },
    {
     "cell_type": "code",
     "collapsed": false,
     "input": [
      "# Perform the computations using the built-in map function\n",
      "t0 = time.time()\n",
      "results = list(map(compute, seeds, signs, shapes))\n",
      "t1 = time.time()\n",
      "\n",
      "display_results(t1 - t0, results)"
     ],
     "language": "python",
     "metadata": {},
     "outputs": [
      {
       "output_type": "stream",
       "stream": "stdout",
       "text": [
        "Computation time: 4.816911697387695 s\n",
        "Worker 14068 returned: 15.007264213684635\n",
        "Worker 14068 returned: 15.009471827595583\n",
        "Worker 14068 returned: 15.016758365398458\n",
        "Worker 14068 returned: 15.0391246776274\n",
        "\n",
        "\n"
       ]
      }
     ],
     "prompt_number": 5
    },
    {
     "cell_type": "code",
     "collapsed": false,
     "input": [
      "# Perform the computations using magni with singleprocessing (workers set to 0)\n",
      "magni.utils.multiprocessing.config.set(workers=0)\n",
      "\n",
      "t0 = time.time()\n",
      "results = magni.utils.multiprocessing.process(compute, args_list=args, kwargs_list=kwargs)\n",
      "t1 = time.time()\n",
      "\n",
      "display_results(t1 - t0, results)"
     ],
     "language": "python",
     "metadata": {},
     "outputs": [
      {
       "output_type": "stream",
       "stream": "stdout",
       "text": [
        "Computation time: 3.934265375137329 s\n",
        "Worker 14068 returned: 15.007264213684635\n",
        "Worker 14068 returned: 15.009471827595583\n",
        "Worker 14068 returned: 15.016758365398458\n",
        "Worker 14068 returned: 15.0391246776274\n",
        "\n",
        "\n"
       ]
      }
     ],
     "prompt_number": 6
    },
    {
     "cell_type": "code",
     "collapsed": false,
     "input": [
      "# Perform the computations using magni with multiprocessing (workers set to 4)\n",
      "magni.utils.multiprocessing.config.set(workers=4)\n",
      "\n",
      "t0 = time.time()\n",
      "results = magni.utils.multiprocessing.process(compute, args_list=args, kwargs_list=kwargs)\n",
      "t1 = time.time()\n",
      "\n",
      "display_results(t1 - t0, results)"
     ],
     "language": "python",
     "metadata": {},
     "outputs": [
      {
       "output_type": "stream",
       "stream": "stdout",
       "text": [
        "Computation time: 2.756498336791992 s\n",
        "Worker 14087 returned: 15.007264213684635\n",
        "Worker 14088 returned: 15.009471827595583\n",
        "Worker 14089 returned: 15.016758365398458\n",
        "Worker 14090 returned: 15.0391246776274\n",
        "\n",
        "\n"
       ]
      }
     ],
     "prompt_number": 7
    }
   ],
   "metadata": {}
  }
 ]
}
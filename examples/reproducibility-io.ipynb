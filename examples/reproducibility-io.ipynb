{
 "metadata": {
  "name": "",
  "signature": "sha256:c59124bf461a1ec1d0f4b35ce584a0e2c4b56c46c9dc5cf72482a251d68a7edb"
 },
 "nbformat": 3,
 "nbformat_minor": 0,
 "worksheets": [
  {
   "cells": [
    {
     "cell_type": "heading",
     "level": 1,
     "metadata": {},
     "source": [
      "`reproducibility-io`: Show an example of how to add notes to a HDF database"
     ]
    },
    {
     "cell_type": "markdown",
     "metadata": {},
     "source": [
      "This example primarily shows the usage of the following functions:\n",
      "- `magni.reproducibility.io.annotate_database`\n",
      "- `magni.reproducibility.io.chase_database`\n",
      "- `magni.reproducibility.io.create_database`\n",
      "- `magni.reproducibility.io.read_annotations`\n",
      "- `magni.reproducibility.io.read_chases`\n",
      "- `magni.reproducibility.io.remove_annotations`\n",
      "- `magni.reproducibility.io.remove_chases`\n",
      "- `magni.reproducibility.io.write_custom_annotation`"
     ]
    },
    {
     "cell_type": "code",
     "collapsed": false,
     "input": [
      "import tables\n",
      "\n",
      "import magni"
     ],
     "language": "python",
     "metadata": {},
     "outputs": [],
     "prompt_number": 1
    },
    {
     "cell_type": "markdown",
     "metadata": {},
     "source": [
      "Save annotations in the HDF database"
     ]
    },
    {
     "cell_type": "code",
     "collapsed": false,
     "input": [
      "with tables.open_file('data.hdf5', mode='a') as h5file:\n",
      "    print('\\n')\n",
      "    print('\\n'.join(h5file.__str__().replace(\" u''\", \" ''\").split('\\n')[2:]))  # Print object tree\n",
      "\n",
      "    print('Before annotation')\n",
      "    print('---------------------------------------------')\n",
      "    print('After annotation\\n')\n",
      "    \n",
      "    magni.reproducibility.io.annotate_database(h5file)\n",
      "    \n",
      "    print('\\n'.join(h5file.__str__().replace(\" u''\", \" ''\").split('\\n')[2:]))  # Print object tree\n",
      "    print('\\n')"
     ],
     "language": "python",
     "metadata": {},
     "outputs": [
      {
       "output_type": "stream",
       "stream": "stdout",
       "text": [
        "\n",
        "\n",
        "Object Tree: \n",
        "/ (RootGroup) ''\n",
        "/rad_iht (Group) ''\n",
        "/rad_iht/dist (Array(40, 100, 100)) ''\n",
        "/rad_iht/phase_transition (Array(40,)) ''\n",
        "/rad_iht/time (Array(40, 100, 100)) ''\n",
        "/rad_sl0_mod (Group) ''\n",
        "/rad_sl0_mod/dist (Array(40, 100, 100)) ''\n",
        "/rad_sl0_mod/phase_transition (Array(40,)) ''\n",
        "/rad_sl0_mod/time (Array(40, 100, 100)) ''\n",
        "\n",
        "Before annotation\n",
        "---------------------------------------------\n",
        "After annotation\n",
        "\n",
        "Object Tree: \n",
        "/ (RootGroup) ''\n",
        "/annotations (Group) ''\n",
        "/annotations/conda_info (Array()) ''\n",
        "/annotations/datetime (Array()) ''\n",
        "/annotations/git_revision (Array()) ''\n",
        "/annotations/magni_config (Array()) ''\n",
        "/annotations/magni_info (Array()) ''\n",
        "/annotations/platform_info (Array()) ''\n",
        "/rad_iht (Group) ''\n",
        "/rad_iht/dist (Array(40, 100, 100)) ''\n",
        "/rad_iht/phase_transition (Array(40,)) ''\n",
        "/rad_iht/time (Array(40, 100, 100)) ''\n",
        "/rad_sl0_mod (Group) ''\n",
        "/rad_sl0_mod/dist (Array(40, 100, 100)) ''\n",
        "/rad_sl0_mod/phase_transition (Array(40,)) ''\n",
        "/rad_sl0_mod/time (Array(40, 100, 100)) ''\n",
        "\n",
        "\n",
        "\n"
       ]
      }
     ],
     "prompt_number": 2
    },
    {
     "cell_type": "markdown",
     "metadata": {},
     "source": [
      "Read annotations from the HDF database"
     ]
    },
    {
     "cell_type": "code",
     "collapsed": false,
     "input": [
      "with tables.open_file('data.hdf5', mode='r') as h5file:\n",
      "    annotations = magni.reproducibility.io.read_annotations(h5file)\n",
      "    print('\\n')\n",
      "    print('Annotations:')\n",
      "    print('------------')\n",
      "    print(sorted(annotations.keys()))\n",
      "    print('\\n\\nMagni info / help(magni) DESCRIPTION:')\n",
      "    print('-------------------------------------')\n",
      "    \n",
      "    info = annotations['magni_info']['help_magni']\n",
      "    info = info[info.find('DESCRIPTION'):info.find('PACKAGE')]\n",
      "    \n",
      "    print(info)\n",
      "    print('\\n')"
     ],
     "language": "python",
     "metadata": {},
     "outputs": [
      {
       "output_type": "stream",
       "stream": "stdout",
       "text": [
        "\n",
        "\n",
        "Annotations:\n",
        "------------\n",
        "['conda_info', 'datetime', 'git_revision', 'magni_config', 'magni_info', 'platform_info']\n",
        "\n",
        "\n",
        "Magni info / help(magni) DESCRIPTION:\n",
        "-------------------------------------\n",
        "DESCRIPTION\n",
        "    ..\n",
        "        Copyright (c) 2014-2016, Magni developers.\n",
        "        All rights reserved.\n",
        "        See LICENSE.rst for further information.\n",
        "    \n",
        "    Package providing a toolbox for compressed sensing for atomic force microscopy.\n",
        "    \n",
        "    Routine listings\n",
        "    ----------------\n",
        "    afm\n",
        "        Subpackage providing atomic force miscroscopy specific functionality.\n",
        "    cs\n",
        "        Subpackage providing generic compressed sensing functionality.\n",
        "    imaging\n",
        "        Subpackage providing generic imaging functionality.\n",
        "    tests\n",
        "        Subpackage providing unittesting of the other subpackages.\n",
        "    utils\n",
        "        Subpackage providing support functionality for the other subpackages.\n",
        "    \n",
        "    Notes\n",
        "    -----\n",
        "    See the README file for additional information.\n",
        "\n",
        "\n",
        "\n",
        "\n"
       ]
      }
     ],
     "prompt_number": 3
    },
    {
     "cell_type": "markdown",
     "metadata": {},
     "source": [
      "Remove annotations from the HDF database"
     ]
    },
    {
     "cell_type": "code",
     "collapsed": false,
     "input": [
      "with tables.open_file('data.hdf5', mode='a') as h5file:\n",
      "    print('\\n')\n",
      "    print('\\n'.join(h5file.__str__().replace(\" u''\", \" ''\").split('\\n')[2:]))  # Print object tree\n",
      "    \n",
      "    print('Before remove')\n",
      "    print('---------------------------------------------')\n",
      "    print('After remove\\n')\n",
      "    \n",
      "    magni.reproducibility.io.remove_annotations(h5file)\n",
      "\n",
      "    print('\\n'.join(h5file.__str__().replace(\" u''\", \" ''\").split('\\n')[2:]))  # Print object tree\n",
      "    print('\\n')"
     ],
     "language": "python",
     "metadata": {},
     "outputs": [
      {
       "output_type": "stream",
       "stream": "stdout",
       "text": [
        "\n",
        "\n",
        "Object Tree: \n",
        "/ (RootGroup) ''\n",
        "/annotations (Group) ''\n",
        "/annotations/conda_info (Array()) ''\n",
        "/annotations/datetime (Array()) ''\n",
        "/annotations/git_revision (Array()) ''\n",
        "/annotations/magni_config (Array()) ''\n",
        "/annotations/magni_info (Array()) ''\n",
        "/annotations/platform_info (Array()) ''\n",
        "/rad_iht (Group) ''\n",
        "/rad_iht/dist (Array(40, 100, 100)) ''\n",
        "/rad_iht/phase_transition (Array(40,)) ''\n",
        "/rad_iht/time (Array(40, 100, 100)) ''\n",
        "/rad_sl0_mod (Group) ''\n",
        "/rad_sl0_mod/dist (Array(40, 100, 100)) ''\n",
        "/rad_sl0_mod/phase_transition (Array(40,)) ''\n",
        "/rad_sl0_mod/time (Array(40, 100, 100)) ''\n",
        "\n",
        "Before remove\n",
        "---------------------------------------------\n",
        "After remove\n",
        "\n",
        "Object Tree: \n",
        "/ (RootGroup) ''\n",
        "/rad_iht (Group) ''\n",
        "/rad_iht/dist (Array(40, 100, 100)) ''\n",
        "/rad_iht/phase_transition (Array(40,)) ''\n",
        "/rad_iht/time (Array(40, 100, 100)) ''\n",
        "/rad_sl0_mod (Group) ''\n",
        "/rad_sl0_mod/dist (Array(40, 100, 100)) ''\n",
        "/rad_sl0_mod/phase_transition (Array(40,)) ''\n",
        "/rad_sl0_mod/time (Array(40, 100, 100)) ''\n",
        "\n",
        "\n",
        "\n"
       ]
      }
     ],
     "prompt_number": 4
    },
    {
     "cell_type": "markdown",
     "metadata": {},
     "source": [
      "Save chases in the HDF database"
     ]
    },
    {
     "cell_type": "code",
     "collapsed": false,
     "input": [
      "with tables.open_file('data.hdf5', mode='a') as h5file:\n",
      "    print('\\n')\n",
      "    print('\\n'.join(h5file.__str__().replace(\" u''\", \" ''\").split('\\n')[2:]))  # Print object tree\n",
      "\n",
      "    print('Before chases')\n",
      "    print('---------------------------------------------')\n",
      "    print('After chases\\n')\n",
      "    \n",
      "    magni.reproducibility.io.chase_database(h5file)\n",
      "    \n",
      "    print('\\n'.join(h5file.__str__().replace(\" u''\", \" ''\").split('\\n')[2:]))  # Print object tree\n",
      "    print('\\n')"
     ],
     "language": "python",
     "metadata": {},
     "outputs": [
      {
       "output_type": "stream",
       "stream": "stdout",
       "text": [
        "\n",
        "\n",
        "Object Tree: \n",
        "/ (RootGroup) ''\n",
        "/rad_iht (Group) ''\n",
        "/rad_iht/dist (Array(40, 100, 100)) ''\n",
        "/rad_iht/phase_transition (Array(40,)) ''\n",
        "/rad_iht/time (Array(40, 100, 100)) ''\n",
        "/rad_sl0_mod (Group) ''\n",
        "/rad_sl0_mod/dist (Array(40, 100, 100)) ''\n",
        "/rad_sl0_mod/phase_transition (Array(40,)) ''\n",
        "/rad_sl0_mod/time (Array(40, 100, 100)) ''\n",
        "\n",
        "Before chases\n",
        "---------------------------------------------\n",
        "After chases\n",
        "\n",
        "Object Tree: \n",
        "/ (RootGroup) ''\n",
        "/chases (Group) ''\n",
        "/chases/main_file_name (Array()) ''\n",
        "/chases/main_file_source (Array()) ''\n",
        "/chases/main_source (Array()) ''\n",
        "/chases/stack_trace (Array()) ''\n",
        "/rad_iht (Group) ''\n",
        "/rad_iht/dist (Array(40, 100, 100)) ''\n",
        "/rad_iht/phase_transition (Array(40,)) ''\n",
        "/rad_iht/time (Array(40, 100, 100)) ''\n",
        "/rad_sl0_mod (Group) ''\n",
        "/rad_sl0_mod/dist (Array(40, 100, 100)) ''\n",
        "/rad_sl0_mod/phase_transition (Array(40,)) ''\n",
        "/rad_sl0_mod/time (Array(40, 100, 100)) ''\n"
       ]
      },
      {
       "output_type": "stream",
       "stream": "stdout",
       "text": [
        "\n",
        "\n",
        "\n"
       ]
      }
     ],
     "prompt_number": 5
    },
    {
     "cell_type": "markdown",
     "metadata": {},
     "source": [
      "Read chases from the HDF database"
     ]
    },
    {
     "cell_type": "code",
     "collapsed": false,
     "input": [
      "with tables.open_file('data.hdf5', mode='r') as h5file:\n",
      "    chases = magni.reproducibility.io.read_chases(h5file)\n",
      "    print('\\n')\n",
      "    print('Chases:')\n",
      "    print('------------')\n",
      "    print(sorted(chases.keys()))\n",
      "    print('\\n')"
     ],
     "language": "python",
     "metadata": {},
     "outputs": [
      {
       "output_type": "stream",
       "stream": "stdout",
       "text": [
        "\n",
        "\n",
        "Chases:\n",
        "------------\n",
        "['main_file_name', 'main_file_source', 'main_source', 'stack_trace']\n",
        "\n",
        "\n"
       ]
      }
     ],
     "prompt_number": 6
    },
    {
     "cell_type": "markdown",
     "metadata": {},
     "source": [
      "Remove chases from the HDF database"
     ]
    },
    {
     "cell_type": "code",
     "collapsed": false,
     "input": [
      "with tables.open_file('data.hdf5', mode='a') as h5file:\n",
      "    print('\\n')\n",
      "    print('\\n'.join(h5file.__str__().replace(\" u''\", \" ''\").split('\\n')[2:]))  # Print object tree\n",
      "    \n",
      "    print('Before remove')\n",
      "    print('---------------------------------------------')\n",
      "    print('After remove\\n')\n",
      "    \n",
      "    magni.reproducibility.io.remove_chases(h5file)\n",
      "\n",
      "    print('\\n'.join(h5file.__str__().replace(\" u''\", \" ''\").split('\\n')[2:]))  # Print object tree\n",
      "    print('\\n')"
     ],
     "language": "python",
     "metadata": {},
     "outputs": [
      {
       "output_type": "stream",
       "stream": "stdout",
       "text": [
        "\n",
        "\n",
        "Object Tree: \n",
        "/ (RootGroup) ''\n",
        "/chases (Group) ''\n",
        "/chases/main_file_name (Array()) ''\n",
        "/chases/main_file_source (Array()) ''\n",
        "/chases/main_source (Array()) ''\n",
        "/chases/stack_trace (Array()) ''\n",
        "/rad_iht (Group) ''\n",
        "/rad_iht/dist (Array(40, 100, 100)) ''\n",
        "/rad_iht/phase_transition (Array(40,)) ''\n",
        "/rad_iht/time (Array(40, 100, 100)) ''\n",
        "/rad_sl0_mod (Group) ''\n",
        "/rad_sl0_mod/dist (Array(40, 100, 100)) ''\n",
        "/rad_sl0_mod/phase_transition (Array(40,)) ''\n",
        "/rad_sl0_mod/time (Array(40, 100, 100)) ''\n",
        "\n",
        "Before remove\n",
        "---------------------------------------------\n",
        "After remove\n",
        "\n",
        "Object Tree: \n",
        "/ (RootGroup) ''\n",
        "/rad_iht (Group) ''\n",
        "/rad_iht/dist (Array(40, 100, 100)) ''\n",
        "/rad_iht/phase_transition (Array(40,)) ''\n",
        "/rad_iht/time (Array(40, 100, 100)) ''\n",
        "/rad_sl0_mod (Group) ''\n",
        "/rad_sl0_mod/dist (Array(40, 100, 100)) ''\n",
        "/rad_sl0_mod/phase_transition (Array(40,)) ''\n",
        "/rad_sl0_mod/time (Array(40, 100, 100)) ''\n",
        "\n",
        "\n",
        "\n"
       ]
      }
     ],
     "prompt_number": 7
    },
    {
     "cell_type": "markdown",
     "metadata": {},
     "source": [
      "Conviniently create a new database with both annotations and chases"
     ]
    },
    {
     "cell_type": "code",
     "collapsed": false,
     "input": [
      "magni.reproducibility.io.create_database('some_new_data.hdf5')\n",
      "with tables.open_file('some_new_data.hdf5', mode='r') as h5file:\n",
      "    print('\\n')\n",
      "    print('Content of newly created database:')\n",
      "    print('\\n'.join(h5file.__str__().replace(\" u''\", \" ''\").split('\\n')[2:]))  # Print object tree\n",
      "    print('\\n')"
     ],
     "language": "python",
     "metadata": {},
     "outputs": [
      {
       "output_type": "stream",
       "stream": "stdout",
       "text": [
        "\n",
        "\n",
        "Content of newly created database:\n",
        "Object Tree: \n",
        "/ (RootGroup) ''\n",
        "/annotations (Group) ''\n",
        "/annotations/conda_info (Array()) ''\n",
        "/annotations/datetime (Array()) ''\n",
        "/annotations/git_revision (Array()) ''\n",
        "/annotations/magni_config (Array()) ''\n",
        "/annotations/magni_info (Array()) ''\n",
        "/annotations/platform_info (Array()) ''\n",
        "/chases (Group) ''\n",
        "/chases/main_file_name (Array()) ''\n",
        "/chases/main_file_source (Array()) ''\n",
        "/chases/main_source (Array()) ''\n",
        "/chases/stack_trace (Array()) ''\n",
        "\n",
        "\n",
        "\n"
       ]
      }
     ],
     "prompt_number": 8
    },
    {
     "cell_type": "markdown",
     "metadata": {},
     "source": [
      "Write a custom annotation to the newly created database"
     ]
    },
    {
     "cell_type": "code",
     "collapsed": false,
     "input": [
      "with tables.open_file('some_new_data.hdf5', mode='a') as h5file:\n",
      "    magni.reproducibility.io.write_custom_annotation(h5file, 'my_annotation', {'annotation_value': 5})\n",
      "    annotations = magni.reproducibility.io.read_annotations(h5file)\n",
      "    \n",
      "    print('\\n')\n",
      "    print('Content of database following write of custom annotation:')\n",
      "    print('\\n'.join(h5file.__str__().replace(\" u''\", \" ''\").split('\\n')[2:]))  # Print object tree\n",
      "\n",
      "    print('Reading the value of the custom annotation yields:')\n",
      "    print(annotations['my_annotation']['annotation_value'])\n",
      "    print('\\n')"
     ],
     "language": "python",
     "metadata": {},
     "outputs": [
      {
       "output_type": "stream",
       "stream": "stdout",
       "text": [
        "\n",
        "\n",
        "Content of database following write of custom annotation:\n",
        "Object Tree: \n",
        "/ (RootGroup) ''\n",
        "/annotations (Group) ''\n",
        "/annotations/conda_info (Array()) ''\n",
        "/annotations/datetime (Array()) ''\n",
        "/annotations/git_revision (Array()) ''\n",
        "/annotations/magni_config (Array()) ''\n",
        "/annotations/magni_info (Array()) ''\n",
        "/annotations/my_annotation (Array()) ''\n",
        "/annotations/platform_info (Array()) ''\n",
        "/chases (Group) ''\n",
        "/chases/main_file_name (Array()) ''\n",
        "/chases/main_file_source (Array()) ''\n",
        "/chases/main_source (Array()) ''\n",
        "/chases/stack_trace (Array()) ''\n",
        "\n",
        "Reading the value of the custom annotation yields:\n",
        "5\n",
        "\n",
        "\n"
       ]
      }
     ],
     "prompt_number": 9
    }
   ],
   "metadata": {}
  }
 ]
}
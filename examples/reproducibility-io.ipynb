{
 "metadata": {
  "name": "",
  "signature": "sha256:7653bbc2e1496aca65bb61197e02179d4deffc7a08ee876e7046a13a5ecacdc5"
 },
 "nbformat": 3,
 "nbformat_minor": 0,
 "worksheets": [
  {
   "cells": [
    {
     "cell_type": "heading",
     "level": 1,
     "metadata": {},
     "source": [
      "`reproducibility-io`: Show an example of how to add notes to a HDF database"
     ]
    },
    {
     "cell_type": "markdown",
     "metadata": {},
     "source": [
      "This example primarily shows the usage of the following functions:\n",
      "- `magni.reproducibility.io.annotate_database`\n",
      "- `magni.reproducibility.io.read_annotations`\n",
      "- `magni.reproducibility.io.remove_annotations`"
     ]
    },
    {
     "cell_type": "code",
     "collapsed": false,
     "input": [
      "import tables\n",
      "\n",
      "import magni"
     ],
     "language": "python",
     "metadata": {},
     "outputs": [],
     "prompt_number": 1
    },
    {
     "cell_type": "markdown",
     "metadata": {},
     "source": [
      "Save annotations in the HDF database"
     ]
    },
    {
     "cell_type": "code",
     "collapsed": false,
     "input": [
      "with tables.open_file('data.hdf5', mode='a') as h5file:\n",
      "    print('\\n')\n",
      "    print(h5file)\n",
      "\n",
      "    print('Before annotation')\n",
      "    print('---------------------------------------------')\n",
      "    print('After annotation\\n')\n",
      "    \n",
      "    magni.reproducibility.io.annotate_database(h5file)\n",
      "    \n",
      "    print(h5file)\n",
      "    print('\\n')"
     ],
     "language": "python",
     "metadata": {},
     "outputs": [
      {
       "output_type": "stream",
       "stream": "stdout",
       "text": [
        "\n",
        "\n",
        "data.hdf5 (File) ''\n",
        "Last modif.: 'Tue Nov 11 10:44:53 2014'\n",
        "Object Tree: \n",
        "/ (RootGroup) ''\n",
        "/rad_iht (Group) ''\n",
        "/rad_iht/dist (Array(40, 100, 100)) ''\n",
        "/rad_iht/phase_transition (Array(40,)) ''\n",
        "/rad_iht/time (Array(40, 100, 100)) ''\n",
        "/rad_sl0_mod (Group) ''\n",
        "/rad_sl0_mod/dist (Array(40, 100, 100)) ''\n",
        "/rad_sl0_mod/phase_transition (Array(40,)) ''\n",
        "/rad_sl0_mod/time (Array(40, 100, 100)) ''\n",
        "\n",
        "Before annotation\n",
        "---------------------------------------------\n",
        "After annotation\n",
        "\n",
        "data.hdf5 (File) ''\n",
        "Last modif.: 'Tue Nov 11 13:17:21 2014'\n",
        "Object Tree: \n",
        "/ (RootGroup) ''\n",
        "/annotations (Group) u''\n",
        "/annotations/conda_info (Array()) ''\n",
        "/annotations/datetime (Array()) ''\n",
        "/annotations/git_revision (Array()) ''\n",
        "/annotations/magni_config (Array()) ''\n",
        "/annotations/magni_info (Array()) ''\n",
        "/annotations/platform_info (Array()) ''\n",
        "/rad_iht (Group) ''\n",
        "/rad_iht/dist (Array(40, 100, 100)) ''\n",
        "/rad_iht/phase_transition (Array(40,)) ''\n",
        "/rad_iht/time (Array(40, 100, 100)) ''\n",
        "/rad_sl0_mod (Group) ''\n",
        "/rad_sl0_mod/dist (Array(40, 100, 100)) ''\n",
        "/rad_sl0_mod/phase_transition (Array(40,)) ''\n",
        "/rad_sl0_mod/time (Array(40, 100, 100)) ''\n"
       ]
      },
      {
       "output_type": "stream",
       "stream": "stdout",
       "text": [
        "\n",
        "\n",
        "\n"
       ]
      }
     ],
     "prompt_number": 2
    },
    {
     "cell_type": "markdown",
     "metadata": {},
     "source": [
      "Read annotations from the HDF database"
     ]
    },
    {
     "cell_type": "code",
     "collapsed": false,
     "input": [
      "with tables.open_file('data.hdf5', mode='r') as h5file:\n",
      "    annotations = magni.reproducibility.io.read_annotations(h5file)\n",
      "    print('\\n')\n",
      "    print('Annotations:')\n",
      "    print(annotations.keys())\n",
      "    print('\\nGit revision annotation:')\n",
      "    print(annotations['git_revision'])\n",
      "    print('\\n')"
     ],
     "language": "python",
     "metadata": {},
     "outputs": [
      {
       "output_type": "stream",
       "stream": "stdout",
       "text": [
        "\n",
        "\n",
        "Annotations:\n",
        "['magni_info', 'git_revision', 'datetime', 'conda_info', 'magni_config', 'platform_info']\n",
        "\n",
        "Git revision annotation:\n",
        "{u'status': u'Succeeded', u'tag': u'v1.0.0-76-g1e0e656', u'branch': u'heads/magni_1.1.0'}\n",
        "\n",
        "\n"
       ]
      }
     ],
     "prompt_number": 3
    },
    {
     "cell_type": "markdown",
     "metadata": {},
     "source": [
      "Remove annotations from the HDF database"
     ]
    },
    {
     "cell_type": "code",
     "collapsed": false,
     "input": [
      "with tables.open_file('data.hdf5', mode='a') as h5file:\n",
      "    print('\\n')\n",
      "    print(h5file)\n",
      "    \n",
      "    print('Before remove')\n",
      "    print('---------------------------------------------')\n",
      "    print('After remove\\n')\n",
      "    \n",
      "    magni.reproducibility.io.remove_annotations(h5file)\n",
      "\n",
      "    print(h5file)\n",
      "    print('\\n')"
     ],
     "language": "python",
     "metadata": {},
     "outputs": [
      {
       "output_type": "stream",
       "stream": "stdout",
       "text": [
        "\n",
        "\n",
        "data.hdf5 (File) ''\n",
        "Last modif.: 'Tue Nov 11 13:17:21 2014'\n",
        "Object Tree: \n",
        "/ (RootGroup) ''\n",
        "/annotations (Group) ''\n",
        "/annotations/conda_info (Array()) ''\n",
        "/annotations/datetime (Array()) ''\n",
        "/annotations/git_revision (Array()) ''\n",
        "/annotations/magni_config (Array()) ''\n",
        "/annotations/magni_info (Array()) ''\n",
        "/annotations/platform_info (Array()) ''\n",
        "/rad_iht (Group) ''\n",
        "/rad_iht/dist (Array(40, 100, 100)) ''\n",
        "/rad_iht/phase_transition (Array(40,)) ''\n",
        "/rad_iht/time (Array(40, 100, 100)) ''\n",
        "/rad_sl0_mod (Group) ''\n",
        "/rad_sl0_mod/dist (Array(40, 100, 100)) ''\n",
        "/rad_sl0_mod/phase_transition (Array(40,)) ''\n",
        "/rad_sl0_mod/time (Array(40, 100, 100)) ''\n",
        "\n",
        "Before remove\n",
        "---------------------------------------------\n",
        "After remove\n",
        "\n",
        "data.hdf5 (File) ''\n",
        "Last modif.: 'Tue Nov 11 13:17:21 2014'\n",
        "Object Tree: \n",
        "/ (RootGroup) ''\n",
        "/rad_iht (Group) ''\n",
        "/rad_iht/dist (Array(40, 100, 100)) ''\n",
        "/rad_iht/phase_transition (Array(40,)) ''\n",
        "/rad_iht/time (Array(40, 100, 100)) ''\n",
        "/rad_sl0_mod (Group) ''\n",
        "/rad_sl0_mod/dist (Array(40, 100, 100)) ''\n",
        "/rad_sl0_mod/phase_transition (Array(40,)) ''\n",
        "/rad_sl0_mod/time (Array(40, 100, 100)) ''\n",
        "\n",
        "\n",
        "\n"
       ]
      }
     ],
     "prompt_number": 4
    }
   ],
   "metadata": {}
  }
 ]
}
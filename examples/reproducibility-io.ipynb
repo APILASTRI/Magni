{
 "metadata": {
  "name": ""
 },
 "nbformat": 3,
 "nbformat_minor": 0,
 "worksheets": [
  {
   "cells": [
    {
     "cell_type": "raw",
     "metadata": {},
     "source": [
      "Show an example of how to add notes to a HDF database: Conda, date and time, Magni configuration, Magni info, GIT revision, platform\n",
      "\n",
      "magni.reproducibility.io.annotate_database\n",
      "magni.reproducibility.io.read_annotations\n",
      "magni.reproducibility.io.remove_annotations"
     ]
    },
    {
     "cell_type": "code",
     "collapsed": false,
     "input": [
      "import tables\n",
      "\n",
      "import magni"
     ],
     "language": "python",
     "metadata": {},
     "outputs": [],
     "prompt_number": 1
    },
    {
     "cell_type": "code",
     "collapsed": false,
     "input": [
      "# Save notes in the HDF database\n",
      "with tables.open_file('data.hdf5', mode='a') as h5file:\n",
      "    print('\\n')\n",
      "    print(h5file)\n",
      "\n",
      "    print('Before annotation')\n",
      "    print('---------------------------------------------')\n",
      "    print('After annotation\\n')\n",
      "    \n",
      "    magni.reproducibility.io.annotate_database(h5file)\n",
      "    \n",
      "    print(h5file)\n",
      "    print('\\n')"
     ],
     "language": "python",
     "metadata": {},
     "outputs": [
      {
       "output_type": "stream",
       "stream": "stdout",
       "text": [
        "\n",
        "\n",
        "data.hdf5 (File) ''\n",
        "Last modif.: 'Mon May 19 13:38:22 2014'\n",
        "Object Tree: \n",
        "/ (RootGroup) ''\n",
        "/rad_iht (Group) ''\n",
        "/rad_iht/dist (Array(40, 100, 100)) ''\n",
        "/rad_iht/phase_transition (Array(40,)) ''\n",
        "/rad_iht/time (Array(40, 100, 100)) ''\n",
        "/rad_sl0_mod (Group) ''\n",
        "/rad_sl0_mod/dist (Array(40, 100, 100)) ''\n",
        "/rad_sl0_mod/phase_transition (Array(40,)) ''\n",
        "/rad_sl0_mod/time (Array(40, 100, 100)) ''\n",
        "\n",
        "Before annotation\n",
        "---------------------------------------------\n",
        "After annotation\n",
        "\n",
        "data.hdf5 (File) ''\n",
        "Last modif.: 'Tue May 20 09:45:48 2014'\n",
        "Object Tree: \n",
        "/ (RootGroup) ''\n",
        "/annotations (Group) ''\n",
        "/annotations/conda_info (Array()) ''\n",
        "/annotations/datetime (Array()) ''\n",
        "/annotations/git_revision (Array()) ''\n",
        "/annotations/magni_config (Array()) ''\n",
        "/annotations/magni_info (Array()) ''\n",
        "/annotations/platform_info (Array()) ''\n",
        "/rad_iht (Group) ''\n",
        "/rad_iht/dist (Array(40, 100, 100)) ''\n",
        "/rad_iht/phase_transition (Array(40,)) ''\n",
        "/rad_iht/time (Array(40, 100, 100)) ''\n",
        "/rad_sl0_mod (Group) ''\n",
        "/rad_sl0_mod/dist (Array(40, 100, 100)) ''\n",
        "/rad_sl0_mod/phase_transition (Array(40,)) ''\n",
        "/rad_sl0_mod/time (Array(40, 100, 100)) ''\n"
       ]
      },
      {
       "output_type": "stream",
       "stream": "stdout",
       "text": [
        "\n",
        "\n",
        "\n"
       ]
      }
     ],
     "prompt_number": 2
    },
    {
     "cell_type": "code",
     "collapsed": false,
     "input": [
      "# Read notes from the HDF database\n",
      "with tables.open_file('data.hdf5', mode='r') as h5file:\n",
      "    annotations = magni.reproducibility.io.read_annotations(h5file)\n",
      "    print('\\n')\n",
      "    print('Annotations:')\n",
      "    print(annotations.keys())\n",
      "    print('\\nGit revision annotation:')\n",
      "    print(annotations['git_revision'])\n",
      "    print('\\n')"
     ],
     "language": "python",
     "metadata": {},
     "outputs": [
      {
       "output_type": "stream",
       "stream": "stdout",
       "text": [
        "\n",
        "\n",
        "Annotations:\n",
        "dict_keys(['platform_info', 'magni_info', 'conda_info', 'datetime', 'git_revision', 'magni_config'])\n",
        "\n",
        "Git revision annotation:\n",
        "{'status': 'Succeeded', 'tag': 'v0.1.0-286-gfe00f0d', 'branch': 'heads/magni_1.0.0'}\n",
        "\n",
        "\n"
       ]
      }
     ],
     "prompt_number": 3
    },
    {
     "cell_type": "code",
     "collapsed": false,
     "input": [
      "# Remove notes from the HDF database\n",
      "with tables.open_file('data.hdf5', mode='a') as h5file:\n",
      "    print('\\n')\n",
      "    print(h5file)\n",
      "    \n",
      "    print('Before remove')\n",
      "    print('---------------------------------------------')\n",
      "    print('After remove\\n')\n",
      "    \n",
      "    magni.reproducibility.io.remove_annotations(h5file)\n",
      "\n",
      "    print(h5file)\n",
      "    print('\\n')"
     ],
     "language": "python",
     "metadata": {},
     "outputs": [
      {
       "output_type": "stream",
       "stream": "stdout",
       "text": [
        "\n",
        "\n",
        "data.hdf5 (File) ''\n",
        "Last modif.: 'Tue May 20 09:45:48 2014'\n",
        "Object Tree: \n",
        "/ (RootGroup) ''\n",
        "/annotations (Group) ''\n",
        "/annotations/conda_info (Array()) ''\n",
        "/annotations/datetime (Array()) ''\n",
        "/annotations/git_revision (Array()) ''\n",
        "/annotations/magni_config (Array()) ''\n",
        "/annotations/magni_info (Array()) ''\n",
        "/annotations/platform_info (Array()) ''\n",
        "/rad_iht (Group) ''\n",
        "/rad_iht/dist (Array(40, 100, 100)) ''\n",
        "/rad_iht/phase_transition (Array(40,)) ''\n",
        "/rad_iht/time (Array(40, 100, 100)) ''\n",
        "/rad_sl0_mod (Group) ''\n",
        "/rad_sl0_mod/dist (Array(40, 100, 100)) ''\n",
        "/rad_sl0_mod/phase_transition (Array(40,)) ''\n",
        "/rad_sl0_mod/time (Array(40, 100, 100)) ''\n",
        "\n",
        "Before remove\n",
        "---------------------------------------------\n",
        "After remove\n",
        "\n",
        "data.hdf5 (File) ''\n",
        "Last modif.: 'Tue May 20 09:45:55 2014'\n",
        "Object Tree: \n",
        "/ (RootGroup) ''\n",
        "/rad_iht (Group) ''\n",
        "/rad_iht/dist (Array(40, 100, 100)) ''\n",
        "/rad_iht/phase_transition (Array(40,)) ''\n",
        "/rad_iht/time (Array(40, 100, 100)) ''\n",
        "/rad_sl0_mod (Group) ''\n",
        "/rad_sl0_mod/dist (Array(40, 100, 100)) ''\n",
        "/rad_sl0_mod/phase_transition (Array(40,)) ''\n",
        "/rad_sl0_mod/time (Array(40, 100, 100)) ''\n",
        "\n",
        "\n",
        "\n"
       ]
      }
     ],
     "prompt_number": 4
    }
   ],
   "metadata": {}
  }
 ]
}
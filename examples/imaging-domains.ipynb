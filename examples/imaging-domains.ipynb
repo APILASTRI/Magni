{
 "metadata": {
  "name": ""
 },
 "nbformat": 3,
 "nbformat_minor": 0,
 "worksheets": [
  {
   "cells": [
    {
     "cell_type": "raw",
     "metadata": {},
     "source": [
      "Show an example of how to use MultiDomainImage instead of remembering which transformations to use\n",
      "\n",
      "magni.imaging.domains.MultiDomainImage.__init__\n",
      "magni.imaging.domains.MultiDomainImage.coefficients\n",
      "magni.imaging.domains.MultiDomainImage.image\n",
      "magni.imaging.domains.MultiDomainImage.measurements"
     ]
    },
    {
     "cell_type": "code",
     "collapsed": false,
     "input": [
      "import numpy as np\n",
      "\n",
      "import magni"
     ],
     "language": "python",
     "metadata": {},
     "outputs": [],
     "prompt_number": 1
    },
    {
     "cell_type": "code",
     "collapsed": false,
     "input": [
      "# Load image\n",
      "img = magni.afm.io.read_mi_file('example.mi').get_buffer('Topography')[0].get_data(magni.imaging.visualisation.stretch_image, (1,))\n",
      "\n",
      "# Convert image to vector\n",
      "h, w = img.shape\n",
      "vec = magni.imaging.mat2vec(img)"
     ],
     "language": "python",
     "metadata": {},
     "outputs": [],
     "prompt_number": 2
    },
    {
     "cell_type": "code",
     "collapsed": false,
     "input": [
      "# Example measurement matrix (skip every other sample)\n",
      "# Function representing matrix multiplication of the example measurement matrix\n",
      "def _measure(vec):\n",
      "    return vec[::2]\n",
      "\n",
      "# Function representing transposed matrix multiplication of the example measurement matrix\n",
      "def _measure_T(vec):\n",
      "    output = np.zeros((h * w, 1))\n",
      "    output[::2] = vec\n",
      "    return output\n",
      "\n",
      "# Wrapping of the example measurement matrix\n",
      "additional_measure_args = []\n",
      "shape = (int(h * w / 2), h * w)\n",
      "Phi = magni.utils.matrices.Matrix(_measure, _measure_T, additional_measure_args, shape)\n",
      "\n",
      "# Dictionary\n",
      "Psi = magni.imaging.dictionaries.get_DCT((h, w))\n",
      "\n",
      "# Domain\n",
      "domain = magni.imaging.domains.MultiDomainImage(Phi, Psi)"
     ],
     "language": "python",
     "metadata": {},
     "outputs": [],
     "prompt_number": 3
    },
    {
     "cell_type": "code",
     "collapsed": false,
     "input": [
      "# Input image to make domain automatically determine the measurements and coefficients\n",
      "domain.image = vec\n",
      "\n",
      "# Manually determine the measurements and coefficients\n",
      "measurements = vec[::2]\n",
      "coefficients = magni.imaging._fastops.dct2(vec, h, w)\n",
      "\n",
      "# Ensure that the automatically and manually results are the same\n",
      "assert np.allclose(domain.measurements, measurements)\n",
      "assert np.allclose(domain.coefficients, coefficients)"
     ],
     "language": "python",
     "metadata": {},
     "outputs": [],
     "prompt_number": 4
    }
   ],
   "metadata": {}
  }
 ]
}
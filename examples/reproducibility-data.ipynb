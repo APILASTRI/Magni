{
 "metadata": {
  "name": "",
  "signature": "sha256:efbe4ae1e8758785c01fe8ba2ae61251d663edef950ad809c6e168245f6bb2f2"
 },
 "nbformat": 3,
 "nbformat_minor": 0,
 "worksheets": [
  {
   "cells": [
    {
     "cell_type": "heading",
     "level": 1,
     "metadata": {},
     "source": [
      "`reproducibility-data`: Show an example of how to obtain runtime data for aiding reproducibility"
     ]
    },
    {
     "cell_type": "markdown",
     "metadata": {},
     "source": [
      "This example primarily shows the usage of the following module:\n",
      "- `magni.reproducibility.data`"
     ]
    },
    {
     "cell_type": "code",
     "collapsed": false,
     "input": [
      "import magni"
     ],
     "language": "python",
     "metadata": {},
     "outputs": [],
     "prompt_number": 1
    },
    {
     "cell_type": "markdown",
     "metadata": {},
     "source": [
      "The `data` module offers various platform and runtime data for annotations and chases, e.g. the Magni info"
     ]
    },
    {
     "cell_type": "code",
     "collapsed": false,
     "input": [
      "magni_info = magni.reproducibility.data.get_magni_info()\n",
      "info = magni_info['help_magni']\n",
      "info = info[info.find('DESCRIPTION'):info.find('PACKAGE')]\n",
      "print(info)"
     ],
     "language": "python",
     "metadata": {},
     "outputs": [
      {
       "output_type": "stream",
       "stream": "stdout",
       "text": [
        "DESCRIPTION\n",
        "    ..\n",
        "        Copyright (c) 2014-2016, Magni developers.\n",
        "        All rights reserved.\n",
        "        See LICENSE.rst for further information.\n",
        "    \n",
        "    Package providing a toolbox for compressed sensing for atomic force microscopy.\n",
        "    \n",
        "    Routine listings\n",
        "    ----------------\n",
        "    afm\n",
        "        Subpackage providing atomic force miscroscopy specific functionality.\n",
        "    cs\n",
        "        Subpackage providing generic compressed sensing functionality.\n",
        "    imaging\n",
        "        Subpackage providing generic imaging functionality.\n",
        "    tests\n",
        "        Subpackage providing unittesting of the other subpackages.\n",
        "    utils\n",
        "        Subpackage providing support functionality for the other subpackages.\n",
        "    \n",
        "    Notes\n",
        "    -----\n",
        "    See the README file for additional information.\n",
        "\n",
        "\n"
       ]
      }
     ],
     "prompt_number": 2
    }
   ],
   "metadata": {}
  }
 ]
}
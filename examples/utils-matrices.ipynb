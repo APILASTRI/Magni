{
 "metadata": {
  "name": ""
 },
 "nbformat": 3,
 "nbformat_minor": 0,
 "worksheets": [
  {
   "cells": [
    {
     "cell_type": "raw",
     "metadata": {},
     "source": [
      "Show an example of how to use the matrix emulators provided by the package\n",
      "\n",
      "magni.utils.matrices.Matrix.A\n",
      "magni.utils.matrices.Matrix.T\n",
      "magni.utils.matrices.Matrix.__init__\n",
      "magni.utils.matrices.Matrix.dot\n",
      "magni.utils.matrices.Matrix.shape\n",
      "magni.utils.matrices.MatrixCollection.A\n",
      "magni.utils.matrices.MatrixCollection.T\n",
      "magni.utils.matrices.MatrixCollection.__init__\n",
      "magni.utils.matrices.MatrixCollection.dot\n",
      "magni.utils.matrices.MatrixCollection.shape"
     ]
    },
    {
     "cell_type": "code",
     "collapsed": false,
     "input": [
      "import numpy as np\n",
      "\n",
      "import magni"
     ],
     "language": "python",
     "metadata": {},
     "outputs": [],
     "prompt_number": 1
    },
    {
     "cell_type": "code",
     "collapsed": false,
     "input": [
      "# An example of an implicit 3x5 matrix using functions wrapped by a Matrix instance\n",
      "# Function representing matrix multiplication of the example matrix\n",
      "func = lambda vec: 2 * vec[::2]\n",
      "# Function representing transposed matrix multiplication of the example matrix\n",
      "func_T = lambda vec: 2 * np.float64([vec[0], 0, vec[1], 0, vec[2]]).reshape(5, 1)\n",
      "# Wrapping of the example matrix\n",
      "shape = (3, 5)\n",
      "A = magni.utils.matrices.Matrix(func, func_T, [], shape)\n",
      "\n",
      "print('A: Matrix with shape {}'.format(A.shape))\n",
      "print(A.A)\n",
      "print('')\n",
      "print('A.T: Transposed matrix with shape {}'.format(A.T.shape))\n",
      "print(A.T.A)\n",
      "print('')\n",
      "print('A * [1, 2, 3, 4, 5].T')\n",
      "print(A.dot(np.arange(1, 6).reshape(5, 1)))\n",
      "print('\\n')"
     ],
     "language": "python",
     "metadata": {},
     "outputs": [
      {
       "output_type": "stream",
       "stream": "stdout",
       "text": [
        "A: Matrix with shape (3, 5)\n",
        "[[ 2.  0.  0.  0.  0.]\n",
        " [ 0.  0.  2.  0.  0.]\n",
        " [ 0.  0.  0.  0.  2.]]\n",
        "\n",
        "A.T: Transposed matrix with shape (5, 3)\n",
        "[[ 2.  0.  0.]\n",
        " [ 0.  0.  0.]\n",
        " [ 0.  2.  0.]\n",
        " [ 0.  0.  0.]\n",
        " [ 0.  0.  2.]]\n",
        "\n",
        "A * [1, 2, 3, 4, 5].T\n",
        "[[ 2]\n",
        " [ 6]\n",
        " [10]]\n",
        "\n",
        "\n"
       ]
      }
     ],
     "prompt_number": 2
    },
    {
     "cell_type": "code",
     "collapsed": false,
     "input": [
      "# An example of an implicit 3x5 matrix using two Matrix instances wrapped by a MatrixCollection instance\n",
      "# An implicit 3x3 matrix using functions wrapped by a Matrix instance\n",
      "# Function representing matrix multiplication of the second matrix\n",
      "func = lambda vec: -vec\n",
      "# Function representing transposed matrix multiplication of the second matrix\n",
      "func_T = func\n",
      "# Wrapping of the second matrix\n",
      "shape = (3, 3)\n",
      "B = magni.utils.matrices.Matrix(func, func_T, [], shape)\n",
      "\n",
      "# The MatrixCollection instance wrapping the two Matrix instances, i.e. the matrix product B * A\n",
      "C = magni.utils.matrices.MatrixCollection((B, A))\n",
      "\n",
      "print('B: Matrix with shape {}'.format(B.shape))\n",
      "print(B.A)\n",
      "print('')\n",
      "print('C: Matrix product B * A with shape {}'.format(C.shape))\n",
      "print(C.A)\n",
      "print('')\n",
      "print('C.T: Transposed matrix with shape {}'.format(C.T.shape))\n",
      "print(C.T.A)\n",
      "print('')\n",
      "print('C * [1, 2, 3, 4, 5].T')\n",
      "print(C.dot(np.arange(1, 6).reshape(5, 1)))\n",
      "print('\\n')"
     ],
     "language": "python",
     "metadata": {},
     "outputs": [
      {
       "output_type": "stream",
       "stream": "stdout",
       "text": [
        "B: Matrix with shape (3, 3)\n",
        "[[-1. -0. -0.]\n",
        " [-0. -1. -0.]\n",
        " [-0. -0. -1.]]\n",
        "\n",
        "C: Matrix product B * A with shape (3, 5)\n",
        "[[-2. -0. -0. -0. -0.]\n",
        " [-0. -0. -2. -0. -0.]\n",
        " [-0. -0. -0. -0. -2.]]\n",
        "\n",
        "C.T: Transposed matrix with shape (5, 3)\n",
        "[[-2. -0. -0.]\n",
        " [ 0.  0.  0.]\n",
        " [-0. -2. -0.]\n",
        " [ 0.  0.  0.]\n",
        " [-0. -0. -2.]]\n",
        "\n",
        "C * [1, 2, 3, 4, 5].T\n",
        "[[ -2]\n",
        " [ -6]\n",
        " [-10]]\n",
        "\n",
        "\n"
       ]
      }
     ],
     "prompt_number": 3
    }
   ],
   "metadata": {}
  }
 ]
}
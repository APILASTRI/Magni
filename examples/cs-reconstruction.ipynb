{
 "metadata": {
  "name": ""
 },
 "nbformat": 3,
 "nbformat_minor": 0,
 "worksheets": [
  {
   "cells": [
    {
     "cell_type": "raw",
     "metadata": {},
     "source": [
      "Show an example of how to reconstruct 1D signals using the two available reconstruction algorithms\n",
      "\n",
      "magni.cs.reconstruction.iht.run -> magni.cs.reconstruction.iht._original.run\n",
      "magni.cs.reconstruction.sl0.run -> magni.cs.reconstruction.sl0._util.run"
     ]
    },
    {
     "cell_type": "code",
     "collapsed": false,
     "input": [
      "import time\n",
      "\n",
      "import numpy as np\n",
      "\n",
      "import display\n",
      "import magni"
     ],
     "language": "python",
     "metadata": {},
     "outputs": [],
     "prompt_number": 1
    },
    {
     "cell_type": "code",
     "collapsed": false,
     "input": [
      "# The problems to be solved\n",
      "\n",
      "m = 400; n = 2000; k_vals = (10, 20, 30, 50, 80, 120)\n",
      "np.random.seed(seed=6021)\n",
      "# The Uniform Spherical Ensemble\n",
      "A = 1 / np.sqrt(m) * np.random.randn(m, n)"
     ],
     "language": "python",
     "metadata": {},
     "outputs": [],
     "prompt_number": 2
    },
    {
     "cell_type": "code",
     "collapsed": false,
     "input": [
      "# IHT\n",
      "\n",
      "np.random.seed(seed=6021)\n",
      "\n",
      "max_diff = []\n",
      "mse_vals = []\n",
      "duration = []\n",
      "\n",
      "for k in k_vals:\n",
      "    x = np.zeros((n, 1))\n",
      "    # Rademacher non-zero coefficients\n",
      "    x[:k, 0] = np.random.randint(0, 2, size=k) * 2 - 1\n",
      "    y = A.dot(x)\n",
      "    \n",
      "    t0 = time.time()\n",
      "    x_hat = magni.cs.reconstruction.iht.run(y, A)\n",
      "    t1 = time.time()\n",
      "    \n",
      "    max_diff.append(np.max(np.abs(x_hat - x)))\n",
      "    mse_vals.append(np.mean((x_hat - x) ** 2))\n",
      "    duration.append(t1 - t0)\n",
      "\n",
      "support = ['{:3}'.format(val) for val in k_vals]\n",
      "max_diff = ['{:.2e}'.format(val) for val in max_diff]\n",
      "mse_vals = ['{:.2e}'.format(val) for val in mse_vals]\n",
      "duration = ['{:.2f} s'.format(val) for val in duration]\n",
      "\n",
      "display.print_table((support, max_diff, mse_vals, duration), ('k', 'max', 'MSE', 't'), ('|', '', ''))\n",
      "\n",
      "print('k   : Support size')\n",
      "print('max : Maxium absolute entry difference')\n",
      "print('MSE : Mean squared error')\n",
      "print('t   : Reconstruction time')\n",
      "print('\\n')"
     ],
     "language": "python",
     "metadata": {},
     "outputs": [
      {
       "output_type": "stream",
       "stream": "stdout",
       "text": [
        "\n",
        "\n",
        "-----------------------------------------------\n",
        "   k      | max          MSE          t     \n",
        "-----------------------------------------------\n",
        "    10    | 2.06e-03     2.45e-08     0.05 s\n",
        "    20    | 7.27e-03     3.21e-07     0.09 s\n",
        "    30    | 5.19e-03     1.75e-07     0.06 s\n",
        "    50    | 4.04e-02     1.32e-05     0.09 s\n",
        "    80    | 1.00e+00     2.66e-02     0.37 s\n",
        "   120    | 1.67e+00     5.71e-02     0.36 s\n",
        "-----------------------------------------------\n",
        "\n",
        "\n",
        "k   : Support size\n",
        "max : Maxium absolute entry difference\n",
        "MSE : Mean squared error\n",
        "t   : Reconstruction time\n",
        "\n",
        "\n"
       ]
      }
     ],
     "prompt_number": 3
    },
    {
     "cell_type": "code",
     "collapsed": false,
     "input": [
      "# SL0 MOD\n",
      "\n",
      "np.random.seed(seed=6021)\n",
      "\n",
      "max_diff = []\n",
      "mse_vals = []\n",
      "duration = []\n",
      "\n",
      "for k in k_vals:\n",
      "    x = np.zeros((n, 1))\n",
      "    # Rademacher non-zero coefficients\n",
      "    x[:k, 0] = np.random.randint(0, 2, size=k) * 2 - 1\n",
      "    y = A.dot(x)\n",
      "    \n",
      "    t0 = time.time()\n",
      "    x_hat = magni.cs.reconstruction.sl0.run(y, A)\n",
      "    t1 = time.time()\n",
      "    \n",
      "    max_diff.append(np.max(np.abs(x_hat - x)))\n",
      "    mse_vals.append(np.mean((x_hat - x) ** 2))\n",
      "    duration.append(t1 - t0)\n",
      "\n",
      "support = ['{:3}'.format(val) for val in k_vals]\n",
      "max_diff = ['{:.2e}'.format(val) for val in max_diff]\n",
      "mse_vals = ['{:.2e}'.format(val) for val in mse_vals]\n",
      "duration = ['{:.2f} s'.format(val) for val in duration]\n",
      "\n",
      "display.print_table((support, max_diff, mse_vals, duration), ('k', 'max', 'MSE', 't'), ('|', '', ''))\n",
      "\n",
      "print('k   : Support size')\n",
      "print('max : Maxium absolute entry difference')\n",
      "print('MSE : Mean squared error')\n",
      "print('t   : Reconstruction time')\n",
      "print('\\n')"
     ],
     "language": "python",
     "metadata": {},
     "outputs": [
      {
       "output_type": "stream",
       "stream": "stdout",
       "text": [
        "\n",
        "\n",
        "-----------------------------------------------\n",
        "   k      | max          MSE          t     \n",
        "-----------------------------------------------\n",
        "    10    | 2.11e-04     5.72e-11     0.23 s\n",
        "    20    | 2.21e-04     1.36e-10     0.22 s\n",
        "    30    | 1.92e-04     1.27e-10     0.23 s\n",
        "    50    | 1.78e-04     1.34e-10     0.24 s\n",
        "    80    | 2.51e-04     5.75e-10     0.32 s\n",
        "   120    | 1.85e+00     7.17e-02     1.83 s\n",
        "-----------------------------------------------\n",
        "\n",
        "\n",
        "k   : Support size\n",
        "max : Maxium absolute entry difference\n",
        "MSE : Mean squared error\n",
        "t   : Reconstruction time\n",
        "\n",
        "\n"
       ]
      }
     ],
     "prompt_number": 4
    }
   ],
   "metadata": {}
  }
 ]
}
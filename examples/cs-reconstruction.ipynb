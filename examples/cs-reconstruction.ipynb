{
 "metadata": {
  "name": "",
  "signature": "sha256:7812b882300a0d47a243e3d32944af8fc23f7fb203343c36b5e2ca2596de373f"
 },
 "nbformat": 3,
 "nbformat_minor": 0,
 "worksheets": [
  {
   "cells": [
    {
     "cell_type": "heading",
     "level": 1,
     "metadata": {},
     "source": [
      "`cs-reconstruction`: Show an example of how to reconstruct 1D signals using the two available reconstruction algorithms"
     ]
    },
    {
     "cell_type": "markdown",
     "metadata": {},
     "source": [
      "This example primarily shows the usage of the following functions:\n",
      "- `magni.cs.reconstruction.iht.run` -> `magni.cs.reconstruction.iht._original.run`\n",
      "- `magni.cs.reconstruction.sl0.run` -> `magni.cs.reconstruction.sl0._util.run`"
     ]
    },
    {
     "cell_type": "code",
     "collapsed": false,
     "input": [
      "import numpy as np\n",
      "\n",
      "import display\n",
      "import magni"
     ],
     "language": "python",
     "metadata": {},
     "outputs": [],
     "prompt_number": 1
    },
    {
     "cell_type": "code",
     "collapsed": false,
     "input": [
      "m = 400; n = 2000; k_vals = (10, 20, 30, 50, 80, 120)\n",
      "np.random.seed(seed=6021)\n",
      "\n",
      "# The Uniform Spherical Ensemble\n",
      "A = 1 / np.sqrt(m) * np.random.randn(m, n)"
     ],
     "language": "python",
     "metadata": {},
     "outputs": [],
     "prompt_number": 2
    },
    {
     "cell_type": "markdown",
     "metadata": {},
     "source": [
      "Reconstruct 1D signals using the IHT reconstruction algorithm"
     ]
    },
    {
     "cell_type": "code",
     "collapsed": false,
     "input": [
      "np.random.seed(seed=6021)\n",
      "\n",
      "max_diff = []\n",
      "mse_vals = []\n",
      "\n",
      "for k in k_vals:\n",
      "    x = np.zeros((n, 1))\n",
      "    # Rademacher non-zero coefficients\n",
      "    x[:k, 0] = np.random.randint(0, 2, size=k) * 2 - 1\n",
      "    y = A.dot(x)\n",
      "    \n",
      "    x_hat = magni.cs.reconstruction.iht.run(y, A)\n",
      "    \n",
      "    max_diff.append(np.max(np.abs(x_hat - x)))\n",
      "    mse_vals.append(np.mean((x_hat - x) ** 2))\n",
      "\n",
      "support = ['{:3}'.format(val) for val in k_vals]\n",
      "max_diff = ['{:.2e}'.format(val) for val in max_diff]\n",
      "mse_vals = ['{:.2e}'.format(val) for val in mse_vals]\n",
      "\n",
      "display.print_table((support, max_diff, mse_vals), ('k', 'max', 'MSE'), ('|', ''))\n",
      "\n",
      "print('k   : Support size')\n",
      "print('max : Maxium absolute entry difference')\n",
      "print('MSE : Mean squared error')\n",
      "print('\\n')"
     ],
     "language": "python",
     "metadata": {},
     "outputs": [
      {
       "output_type": "stream",
       "stream": "stdout",
       "text": [
        "\n",
        "\n",
        "------------------------------------\n",
        "   k      | max          MSE     \n",
        "------------------------------------\n",
        "    10    | 2.06e-03     2.45e-08\n",
        "    20    | 7.27e-03     3.21e-07\n",
        "    30    | 5.19e-03     1.75e-07\n",
        "    50    | 4.04e-02     1.32e-05\n",
        "    80    | 1.00e+00     2.66e-02\n",
        "   120    | 1.67e+00     5.71e-02\n",
        "------------------------------------\n",
        "\n",
        "\n",
        "k   : Support size\n",
        "max : Maxium absolute entry difference\n",
        "MSE : Mean squared error\n",
        "\n",
        "\n"
       ]
      }
     ],
     "prompt_number": 3
    },
    {
     "cell_type": "markdown",
     "metadata": {},
     "source": [
      "Reconstruct 1D signals using the SL0 MOD reconstruction algorithm"
     ]
    },
    {
     "cell_type": "code",
     "collapsed": false,
     "input": [
      "np.random.seed(seed=6021)\n",
      "\n",
      "max_diff = []\n",
      "mse_vals = []\n",
      "\n",
      "for k in k_vals:\n",
      "    x = np.zeros((n, 1))\n",
      "    # Rademacher non-zero coefficients\n",
      "    x[:k, 0] = np.random.randint(0, 2, size=k) * 2 - 1\n",
      "    y = A.dot(x)\n",
      "    \n",
      "    x_hat = magni.cs.reconstruction.sl0.run(y, A)\n",
      "    \n",
      "    max_diff.append(np.max(np.abs(x_hat - x)))\n",
      "    mse_vals.append(np.mean((x_hat - x) ** 2))\n",
      "\n",
      "support = ['{:3}'.format(val) for val in k_vals]\n",
      "max_diff = ['{:.2e}'.format(val) for val in max_diff]\n",
      "mse_vals = ['{:.2e}'.format(val) for val in mse_vals]\n",
      "\n",
      "display.print_table((support, max_diff, mse_vals), ('k', 'max', 'MSE'), ('|', ''))\n",
      "\n",
      "print('k   : Support size')\n",
      "print('max : Maxium absolute entry difference')\n",
      "print('MSE : Mean squared error')\n",
      "print('\\n')"
     ],
     "language": "python",
     "metadata": {},
     "outputs": [
      {
       "output_type": "stream",
       "stream": "stdout",
       "text": [
        "\n",
        "\n",
        "------------------------------------\n",
        "   k      | max          MSE     \n",
        "------------------------------------\n",
        "    10    | 2.11e-04     5.72e-11\n",
        "    20    | 2.21e-04     1.36e-10\n",
        "    30    | 1.92e-04     1.27e-10\n",
        "    50    | 1.78e-04     1.34e-10\n",
        "    80    | 2.51e-04     5.75e-10\n",
        "   120    | 1.85e+00     7.17e-02\n",
        "------------------------------------\n",
        "\n",
        "\n",
        "k   : Support size\n",
        "max : Maxium absolute entry difference\n",
        "MSE : Mean squared error\n",
        "\n",
        "\n"
       ]
      }
     ],
     "prompt_number": 4
    }
   ],
   "metadata": {}
  }
 ]
}
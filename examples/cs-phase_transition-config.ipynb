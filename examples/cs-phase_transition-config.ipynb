{
 "metadata": {
  "name": "",
  "signature": "sha256:1877691f049fd5d6efc05004a552aef3e77850802241bbb52256acc816ea2906"
 },
 "nbformat": 3,
 "nbformat_minor": 0,
 "worksheets": [
  {
   "cells": [
    {
     "cell_type": "heading",
     "level": 1,
     "metadata": {},
     "source": [
      "`cs-phase_transition-config`: Show an example of how to use config files"
     ]
    },
    {
     "cell_type": "markdown",
     "metadata": {},
     "source": [
      "Note: The other config files work in the same way.\n",
      "\n",
      "This example primarily shows the usage of the following functions:\n",
      "- `magni.cs.phase_transition.config.get`\n",
      "- `magni.cs.phase_transition.config.set`"
     ]
    },
    {
     "cell_type": "code",
     "collapsed": false,
     "input": [
      "import display\n",
      "import magni"
     ],
     "language": "python",
     "metadata": {},
     "outputs": [],
     "prompt_number": 1
    },
    {
     "cell_type": "markdown",
     "metadata": {},
     "source": [
      "Get and show the configuration options"
     ]
    },
    {
     "cell_type": "code",
     "collapsed": false,
     "input": [
      "config = magni.cs.phase_transition.config\n",
      "config_items = [list(keyval) for keyval in zip(*sorted(config.items()))]\n",
      "config_items[1][config_items[0].index('custom_system_matrix_factory')] = '<lambda> function'\n",
      "config_items[1][config_items[0].index('custom_noise_factory')] = '<lambda> function'\n",
      "\n",
      "print('\\nmagni.cs.phase_transition configuration options:')\n",
      "display.print_table(config_items, ('Key', 'Value'))"
     ],
     "language": "python",
     "metadata": {},
     "outputs": [
      {
       "output_type": "stream",
       "stream": "stdout",
       "text": [
        "\n",
        "magni.cs.phase_transition configuration options:\n",
        "\n",
        "\n",
        "---------------------------------------------------------\n",
        "   Key                             | Value            \n",
        "---------------------------------------------------------\n",
        "   SNR                             | 40               \n",
        "   algorithm_kwargs                | {}               \n",
        "   coefficients                    | rademacher       \n",
        "   custom_noise_factory            | <lambda> function\n",
        "   custom_system_matrix_factory    | <lambda> function\n",
        "   delta                           | [0.0, 1.0]       \n",
        "   logit_solver                    | built-in         \n",
        "   maxpoints                       | None             \n",
        "   monte_carlo                     | 1                \n",
        "   noise                           | None             \n",
        "   problem_size                    | 800              \n",
        "   rho                             | [0.0, 1.0]       \n",
        "   seed                            | None             \n",
        "   support_distribution            | None             \n",
        "   system_matrix                   | USE              \n",
        "---------------------------------------------------------\n",
        "\n",
        "\n"
       ]
      }
     ],
     "prompt_number": 2
    },
    {
     "cell_type": "markdown",
     "metadata": {},
     "source": [
      "Update a configuration option using a keyword and show the updated value"
     ]
    },
    {
     "cell_type": "code",
     "collapsed": false,
     "input": [
      "magni.cs.phase_transition.config['seed'] = 6021\n",
      "\n",
      "display.print_table((['seed'], [magni.cs.phase_transition.config['seed']]))"
     ],
     "language": "python",
     "metadata": {},
     "outputs": [
      {
       "output_type": "stream",
       "stream": "stdout",
       "text": [
        "\n",
        "\n",
        "--------------------\n",
        "   seed    | 6021\n",
        "--------------------\n",
        "\n",
        "\n"
       ]
      }
     ],
     "prompt_number": 3
    },
    {
     "cell_type": "markdown",
     "metadata": {},
     "source": [
      "Update two configuration options using a dictionary argument and show the updated values"
     ]
    },
    {
     "cell_type": "code",
     "collapsed": false,
     "input": [
      "options = {arr: [0.25, 0.5, 0.75, 1.0] for arr in ['rho', 'delta']}\n",
      "magni.cs.phase_transition.config.update(options)\n",
      "\n",
      "config_items = [list(keyval) for keyval in zip(*sorted(config.items()))]\n",
      "config_items[1][config_items[0].index('custom_system_matrix_factory')] = '<lambda> function'\n",
      "config_items[1][config_items[0].index('custom_noise_factory')] = '<lambda> function'\n",
      "display.print_table(config_items, ('Key', 'Value'))"
     ],
     "language": "python",
     "metadata": {},
     "outputs": [
      {
       "output_type": "stream",
       "stream": "stdout",
       "text": [
        "\n",
        "\n",
        "--------------------------------------------------------------\n",
        "   Key                             | Value                 \n",
        "--------------------------------------------------------------\n",
        "   SNR                             | 40                    \n",
        "   algorithm_kwargs                | {}                    \n",
        "   coefficients                    | rademacher            \n",
        "   custom_noise_factory            | <lambda> function     \n",
        "   custom_system_matrix_factory    | <lambda> function     \n",
        "   delta                           | [0.25, 0.5, 0.75, 1.0]\n",
        "   logit_solver                    | built-in              \n",
        "   maxpoints                       | None                  \n",
        "   monte_carlo                     | 1                     \n",
        "   noise                           | None                  \n",
        "   problem_size                    | 800                   \n",
        "   rho                             | [0.25, 0.5, 0.75, 1.0]\n",
        "   seed                            | 6021                  \n",
        "   support_distribution            | None                  \n",
        "   system_matrix                   | USE                   \n",
        "--------------------------------------------------------------\n",
        "\n",
        "\n"
       ]
      }
     ],
     "prompt_number": 4
    }
   ],
   "metadata": {}
  }
 ]
}
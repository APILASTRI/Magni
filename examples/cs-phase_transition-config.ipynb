{
 "metadata": {
  "name": ""
 },
 "nbformat": 3,
 "nbformat_minor": 0,
 "worksheets": [
  {
   "cells": [
    {
     "cell_type": "raw",
     "metadata": {},
     "source": [
      "Show an example of how to use the config files (the other config files work in the same way)\n",
      "\n",
      "magni.cs.phase_transition.config.get\n",
      "magni.cs.phase_transition.config.set"
     ]
    },
    {
     "cell_type": "code",
     "collapsed": false,
     "input": [
      "import display\n",
      "import magni"
     ],
     "language": "python",
     "metadata": {},
     "outputs": [],
     "prompt_number": 1
    },
    {
     "cell_type": "code",
     "collapsed": false,
     "input": [
      "options = magni.cs.phase_transition.config.get()\n",
      "\n",
      "print('\\nmagni.cs.phase_transition configuration options:')\n",
      "display.print_table(list(zip(*options.items())), ('Key', 'Value'))"
     ],
     "language": "python",
     "metadata": {},
     "outputs": [
      {
       "output_type": "stream",
       "stream": "stdout",
       "text": [
        "\n",
        "magni.cs.phase_transition configuration options:\n",
        "\n",
        "\n",
        "----------------------------------\n",
        "   Key             | Value     \n",
        "----------------------------------\n",
        "   delta           | [0.0, 1.0]\n",
        "   seed            | None      \n",
        "   n               | 800       \n",
        "   rho             | [0.0, 1.0]\n",
        "   monte_carlo     | 1         \n",
        "   coefficients    | rademacher\n",
        "----------------------------------\n",
        "\n",
        "\n"
       ]
      }
     ],
     "prompt_number": 2
    },
    {
     "cell_type": "code",
     "collapsed": false,
     "input": [
      "# Configuration option update by keyword\n",
      "\n",
      "magni.cs.phase_transition.config.set(seed=6021)\n",
      "\n",
      "display.print_table((['seed'], [magni.cs.phase_transition.config.get('seed')]))"
     ],
     "language": "python",
     "metadata": {},
     "outputs": [
      {
       "output_type": "stream",
       "stream": "stdout",
       "text": [
        "\n",
        "\n",
        "--------------------\n",
        "   seed    | 6021\n",
        "--------------------\n",
        "\n",
        "\n"
       ]
      }
     ],
     "prompt_number": 3
    },
    {
     "cell_type": "code",
     "collapsed": false,
     "input": [
      "# Configuration option update by dictionary\n",
      "\n",
      "options = {arr: [0.25, 0.5, 0.75, 1.0] for arr in ['rho', 'delta']}\n",
      "magni.cs.phase_transition.config.set(options)\n",
      "\n",
      "display.print_table(list(zip(*magni.cs.phase_transition.config.get().items())), ('Key', 'Value'))"
     ],
     "language": "python",
     "metadata": {},
     "outputs": [
      {
       "output_type": "stream",
       "stream": "stdout",
       "text": [
        "\n",
        "\n",
        "----------------------------------------------\n",
        "   Key             | Value                 \n",
        "----------------------------------------------\n",
        "   delta           | [0.25, 0.5, 0.75, 1.0]\n",
        "   seed            | 6021                  \n",
        "   n               | 800                   \n",
        "   rho             | [0.25, 0.5, 0.75, 1.0]\n",
        "   monte_carlo     | 1                     \n",
        "   coefficients    | rademacher            \n",
        "----------------------------------------------\n",
        "\n",
        "\n"
       ]
      }
     ],
     "prompt_number": 4
    }
   ],
   "metadata": {}
  }
 ]
}
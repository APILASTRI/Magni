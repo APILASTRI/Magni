{
 "metadata": {
  "name": "",
  "signature": "sha256:0ee0cfe0945966fa87ee257667c1923c19c94298d72855f75f7bba64bfb160eb"
 },
 "nbformat": 3,
 "nbformat_minor": 0,
 "worksheets": [
  {
   "cells": [
    {
     "cell_type": "heading",
     "level": 1,
     "metadata": {},
     "source": [
      "`cs-phase_transition-config`: Show an example of how to use config files"
     ]
    },
    {
     "cell_type": "markdown",
     "metadata": {},
     "source": [
      "Note: The other config files work in the same way.\n",
      "\n",
      "This example primarily shows the usage of the following functions:\n",
      "- `magni.cs.phase_transition.config.get`\n",
      "- `magni.cs.phase_transition.config.set`"
     ]
    },
    {
     "cell_type": "code",
     "collapsed": false,
     "input": [
      "import display\n",
      "import magni"
     ],
     "language": "python",
     "metadata": {},
     "outputs": [],
     "prompt_number": 1
    },
    {
     "cell_type": "markdown",
     "metadata": {},
     "source": [
      "Get and show the configuration options"
     ]
    },
    {
     "cell_type": "code",
     "collapsed": false,
     "input": [
      "options = magni.cs.phase_transition.config.get()\n",
      "\n",
      "print('\\nmagni.cs.phase_transition configuration options:')\n",
      "display.print_table(list(zip(*options.items())), ('Key', 'Value'))"
     ],
     "language": "python",
     "metadata": {},
     "outputs": [
      {
       "output_type": "stream",
       "stream": "stdout",
       "text": [
        "\n",
        "magni.cs.phase_transition configuration options:\n",
        "\n",
        "\n",
        "----------------------------------\n",
        "   Key             | Value     \n",
        "----------------------------------\n",
        "   monte_carlo     | 1         \n",
        "   seed            | None      \n",
        "   rho             | [0.0, 1.0]\n",
        "   delta           | [0.0, 1.0]\n",
        "   coefficients    | rademacher\n",
        "   n               | 800       \n",
        "----------------------------------\n",
        "\n",
        "\n"
       ]
      }
     ],
     "prompt_number": 2
    },
    {
     "cell_type": "markdown",
     "metadata": {},
     "source": [
      "Update a configuration option using a keyword and show the updated value"
     ]
    },
    {
     "cell_type": "code",
     "collapsed": false,
     "input": [
      "magni.cs.phase_transition.config.set(seed=6021)\n",
      "\n",
      "display.print_table((['seed'], [magni.cs.phase_transition.config.get('seed')]))"
     ],
     "language": "python",
     "metadata": {},
     "outputs": [
      {
       "output_type": "stream",
       "stream": "stdout",
       "text": [
        "\n",
        "\n",
        "--------------------\n",
        "   seed    | 6021\n",
        "--------------------\n",
        "\n",
        "\n"
       ]
      }
     ],
     "prompt_number": 3
    },
    {
     "cell_type": "markdown",
     "metadata": {},
     "source": [
      "Update two configuration options using a dictionary argument and show the updated values"
     ]
    },
    {
     "cell_type": "code",
     "collapsed": false,
     "input": [
      "options = {arr: [0.25, 0.5, 0.75, 1.0] for arr in ['rho', 'delta']}\n",
      "magni.cs.phase_transition.config.set(options)\n",
      "\n",
      "display.print_table(list(zip(*magni.cs.phase_transition.config.get().items())), ('Key', 'Value'))"
     ],
     "language": "python",
     "metadata": {},
     "outputs": [
      {
       "output_type": "stream",
       "stream": "stdout",
       "text": [
        "\n",
        "\n",
        "----------------------------------------------\n",
        "   Key             | Value                 \n",
        "----------------------------------------------\n",
        "   monte_carlo     | 1                     \n",
        "   seed            | 6021                  \n",
        "   rho             | [0.25, 0.5, 0.75, 1.0]\n",
        "   delta           | [0.25, 0.5, 0.75, 1.0]\n",
        "   coefficients    | rademacher            \n",
        "   n               | 800                   \n",
        "----------------------------------------------\n",
        "\n",
        "\n"
       ]
      }
     ],
     "prompt_number": 4
    }
   ],
   "metadata": {}
  }
 ]
}
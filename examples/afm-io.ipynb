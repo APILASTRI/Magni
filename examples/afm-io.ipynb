{
 "metadata": {
  "name": "",
  "signature": "sha256:65cd338f4082f0930d096f71b3161e0e18ca932d80d25bccabace782cc1db958"
 },
 "nbformat": 3,
 "nbformat_minor": 0,
 "worksheets": [
  {
   "cells": [
    {
     "cell_type": "heading",
     "level": 1,
     "metadata": {},
     "source": [
      "`afm-io`: Show an example of how to load and use an MI file."
     ]
    },
    {
     "cell_type": "markdown",
     "metadata": {},
     "source": [
      "This example primarily shows the usage of the following function:\n",
      "- `magni.afm.io.read_mi_file`\n",
      "\n",
      "Furthermore, this example uses the following functions:\n",
      "- `magni.afm.types.Buffer.__init__`\n",
      "- `magni.afm.types.Buffer.get_attr`\n",
      "- `magni.afm.types.Buffer.get_data`\n",
      "- `magni.afm.types.Image.__init__`\n",
      "- `magni.afm.types.Image.get_attr`\n",
      "- `magni.afm.types.Image.get_buffer`"
     ]
    },
    {
     "cell_type": "code",
     "collapsed": false,
     "input": [
      "import numpy as np\n",
      "\n",
      "import display\n",
      "import magni"
     ],
     "language": "python",
     "metadata": {},
     "outputs": [],
     "prompt_number": 1
    },
    {
     "cell_type": "code",
     "collapsed": false,
     "input": [
      "# Load image\n",
      "mi_file = magni.afm.io.read_mi_file('example.mi')"
     ],
     "language": "python",
     "metadata": {},
     "outputs": [],
     "prompt_number": 2
    },
    {
     "cell_type": "markdown",
     "metadata": {},
     "source": [
      "List the parameters of the file header"
     ]
    },
    {
     "cell_type": "code",
     "collapsed": false,
     "input": [
      "attrs = dict(mi_file.attrs)\n",
      "attrs['scanSpeed'] = '{:.5f}'.format(attrs['scanSpeed'])\n",
      "\n",
      "print('\\nMI file header parameters:')\n",
      "display.print_table(list(zip(*sorted(attrs.items()))), ('Header name', 'Header value'))"
     ],
     "language": "python",
     "metadata": {},
     "outputs": [
      {
       "output_type": "stream",
       "stream": "stdout",
       "text": [
        "\n",
        "MI file header parameters:\n",
        "\n",
        "\n",
        "-----------------------------------\n",
        "   Header name    | Header value\n",
        "-----------------------------------\n",
        "   data           | BINARY_32   \n",
        "   fileType       | Image       \n",
        "   scanSpeed      | 1.00725     \n",
        "   xPixels        | 256         \n",
        "   yPixels        | 256         \n",
        "-----------------------------------\n",
        "\n",
        "\n"
       ]
      }
     ],
     "prompt_number": 3
    },
    {
     "cell_type": "markdown",
     "metadata": {},
     "source": [
      "List the buffers of the file along with their labels and trace/retrace parameter values"
     ]
    },
    {
     "cell_type": "code",
     "collapsed": false,
     "input": [
      "buffer_labels = [buffer_.attrs['bufferLabel'] for buffer_ in mi_file.buffers]\n",
      "buffer_traces = [buffer_.attrs['trace'] for buffer_ in mi_file.buffers]\n",
      "\n",
      "print('\\nMI file buffers:')\n",
      "display.print_table((buffer_labels, buffer_traces), ('Buffer name', 'Trace / Retrace'))"
     ],
     "language": "python",
     "metadata": {},
     "outputs": [
      {
       "output_type": "stream",
       "stream": "stdout",
       "text": [
        "\n",
        "MI file buffers:\n",
        "\n",
        "\n",
        "--------------------------------------\n",
        "   Buffer name    | Trace / Retrace\n",
        "--------------------------------------\n",
        "   Topography     | True           \n",
        "   Topography     | False          \n",
        "   Deflection     | True           \n",
        "   Deflection     | False          \n",
        "   Friction       | True           \n",
        "   X_Sensor       | True           \n",
        "   Y_Sensor       | True           \n",
        "   Z_Sensor       | True           \n",
        "--------------------------------------\n",
        "\n",
        "\n"
       ]
      }
     ],
     "prompt_number": 4
    },
    {
     "cell_type": "markdown",
     "metadata": {},
     "source": [
      "List the parameters of the first topography file buffer"
     ]
    },
    {
     "cell_type": "code",
     "collapsed": false,
     "input": [
      "mi_buffer = mi_file.get_buffer('Topography')[0]\n",
      "attrs = dict(mi_buffer.attrs)\n",
      "attrs['bufferRange'] = '{:.5f}'.format(attrs['bufferRange'])\n",
      "\n",
      "print('\\nMI file buffer header parameters:')\n",
      "display.print_table(list(zip(*sorted(attrs.items()))), ('Header name', 'Header value'))"
     ],
     "language": "python",
     "metadata": {},
     "outputs": [
      {
       "output_type": "stream",
       "stream": "stdout",
       "text": [
        "\n",
        "MI file buffer header parameters:\n",
        "\n",
        "\n",
        "-----------------------------------\n",
        "   Header name    | Header value\n",
        "-----------------------------------\n",
        "   bufferLabel    | Topography  \n",
        "   bufferRange    | 1.42004     \n",
        "   bufferUnit     | um          \n",
        "   trace          | True        \n",
        "-----------------------------------\n",
        "\n",
        "\n"
       ]
      }
     ],
     "prompt_number": 5
    },
    {
     "cell_type": "markdown",
     "metadata": {},
     "source": [
      "Show the data of the first topography file buffer"
     ]
    },
    {
     "cell_type": "code",
     "collapsed": false,
     "input": [
      "np.set_printoptions(linewidth=100)\n",
      "print('\\nMI file buffer data:\\n')\n",
      "print(mi_buffer.data)\n",
      "print('')"
     ],
     "language": "python",
     "metadata": {},
     "outputs": [
      {
       "output_type": "stream",
       "stream": "stdout",
       "text": [
        "\n",
        "MI file buffer data:\n",
        "\n",
        "[[-0.49546202 -0.50577602 -0.52939421 ..., -0.6844509  -0.68843782 -0.66854654]\n",
        " [-0.50360921 -0.50711944 -0.50876621 ..., -0.64284821 -0.66104939 -0.66213279]\n",
        " [-0.51301315 -0.51782346 -0.52081366 ..., -0.61433303 -0.64081141 -0.64687847]\n",
        " ..., \n",
        " [-0.57619724 -0.57637058 -0.57624057 ..., -0.68276079 -0.72206666 -0.75907572]\n",
        " [-0.57307703 -0.57342372 -0.57355373 ..., -0.68306414 -0.72358343 -0.72852375]\n",
        " [-0.57021685 -0.57047687 -0.5705202  ..., -0.6891312  -0.69238141 -0.70854579]]\n",
        "\n"
       ]
      }
     ],
     "prompt_number": 6
    },
    {
     "cell_type": "markdown",
     "metadata": {},
     "source": [
      "Show the histogram stretched data of the first topography file buffer"
     ]
    },
    {
     "cell_type": "code",
     "collapsed": false,
     "input": [
      "mi_buffer_data = magni.imaging.visualisation.stretch_image(mi_buffer.data, 1)\n",
      "\n",
      "print('\\nMI file buffer histogram stretched data:\\n')\n",
      "print(mi_buffer_data)"
     ],
     "language": "python",
     "metadata": {},
     "outputs": [
      {
       "output_type": "stream",
       "stream": "stdout",
       "text": [
        "\n",
        "MI file buffer histogram stretched data:\n",
        "\n",
        "[[ 0.46705762  0.45648407  0.43227154 ...,  0.2733129   0.26922564  0.28961749]\n",
        " [ 0.45870541  0.45510685  0.45341863 ...,  0.3159625   0.2973033   0.29619263]\n",
        " [ 0.44906482  0.44413346  0.44106802 ...,  0.34519526  0.31805056  0.31183082]\n",
        " ..., \n",
        " [ 0.38429073  0.38411302  0.3842463  ...,  0.27504554  0.23475054  0.19681016]\n",
        " [ 0.38748945  0.38713404  0.38700076 ...,  0.27473455  0.23319561  0.22813097]\n",
        " [ 0.39042161  0.39015505  0.39011062 ...,  0.26851482  0.26518282  0.24861167]]\n"
       ]
      }
     ],
     "prompt_number": 7
    }
   ],
   "metadata": {}
  }
 ]
}
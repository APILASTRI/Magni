{
 "metadata": {
  "name": ""
 },
 "nbformat": 3,
 "nbformat_minor": 0,
 "worksheets": [
  {
   "cells": [
    {
     "cell_type": "raw",
     "metadata": {},
     "source": [
      "Show an example of how to load and use an MI file\n",
      "\n",
      "magni.afm.io.read_mi_file\n",
      "    magni.afm.types.Buffer.__init__\n",
      "    magni.afm.types.Buffer.get_attr\n",
      "    magni.afm.types.Buffer.get_data\n",
      "    magni.afm.types.Image.__init__\n",
      "    magni.afm.types.Image.get_attr\n",
      "    magni.afm.types.Image.get_buffer"
     ]
    },
    {
     "cell_type": "code",
     "collapsed": false,
     "input": [
      "import numpy as np\n",
      "\n",
      "import display\n",
      "import magni"
     ],
     "language": "python",
     "metadata": {},
     "outputs": [],
     "prompt_number": 1
    },
    {
     "cell_type": "code",
     "collapsed": false,
     "input": [
      "mi_file = magni.afm.io.read_mi_file('example.mi')"
     ],
     "language": "python",
     "metadata": {},
     "outputs": [],
     "prompt_number": 2
    },
    {
     "cell_type": "code",
     "collapsed": false,
     "input": [
      "attrs = mi_file.get_attr()\n",
      "\n",
      "print('\\nMI file headers:')\n",
      "display.print_table(list(zip(*attrs.items())), ('Header name', 'Header value'))"
     ],
     "language": "python",
     "metadata": {},
     "outputs": [
      {
       "output_type": "stream",
       "stream": "stdout",
       "text": [
        "\n",
        "MI file headers:\n",
        "\n",
        "\n",
        "----------------------------------------\n",
        "   Header name    | Header value     \n",
        "----------------------------------------\n",
        "   fileType       | Image            \n",
        "   yPixels        | 256              \n",
        "   xPixels        | 256              \n",
        "   scanSpeed      | 1.007252241400207\n",
        "   data           | BINARY_32        \n",
        "----------------------------------------\n",
        "\n",
        "\n"
       ]
      }
     ],
     "prompt_number": 3
    },
    {
     "cell_type": "code",
     "collapsed": false,
     "input": [
      "buffers = mi_file.get_buffer()\n",
      "buffer_labels = [buff.get_attr('bufferLabel') for buff in buffers]\n",
      "buffer_traces = [buff.get_attr('trace') for buff in buffers]\n",
      "\n",
      "print('\\nMI file buffers:')\n",
      "display.print_table((buffer_labels, buffer_traces), ('Buffer name', 'Trace / Retrace'))\n",
      "\n",
      "mi_buffer = mi_file.get_buffer('Topography')[0]"
     ],
     "language": "python",
     "metadata": {},
     "outputs": [
      {
       "output_type": "stream",
       "stream": "stdout",
       "text": [
        "\n",
        "MI file buffers:\n",
        "\n",
        "\n",
        "--------------------------------------\n",
        "   Buffer name    | Trace / Retrace\n",
        "--------------------------------------\n",
        "   Topography     | Trace          \n",
        "   Topography     | Retrace        \n",
        "   Deflection     | Trace          \n",
        "   Deflection     | Retrace        \n",
        "   Friction       | Trace          \n",
        "   X_Sensor       | Trace          \n",
        "   Y_Sensor       | Trace          \n",
        "   Z_Sensor       | Trace          \n",
        "--------------------------------------\n",
        "\n",
        "\n"
       ]
      }
     ],
     "prompt_number": 4
    },
    {
     "cell_type": "code",
     "collapsed": false,
     "input": [
      "attrs = mi_buffer.get_attr()\n",
      "\n",
      "print('\\nMI file buffer headers:')\n",
      "display.print_table(list(zip(*attrs.items())), ('Header name', 'Header value'))"
     ],
     "language": "python",
     "metadata": {},
     "outputs": [
      {
       "output_type": "stream",
       "stream": "stdout",
       "text": [
        "\n",
        "MI file buffer headers:\n",
        "\n",
        "\n",
        "-----------------------------------------\n",
        "   Header name    | Header value      \n",
        "-----------------------------------------\n",
        "   bufferLabel    | Topography        \n",
        "   bufferUnit     | um                \n",
        "   bufferRange    | 1.4200384336036802\n",
        "   trace          | Trace             \n",
        "-----------------------------------------\n",
        "\n",
        "\n"
       ]
      }
     ],
     "prompt_number": 5
    },
    {
     "cell_type": "code",
     "collapsed": false,
     "input": [
      "mi_buffer_data = mi_buffer.get_data()\n",
      "\n",
      "np.set_printoptions(linewidth=100)\n",
      "print('\\nMI file buffer data:\\n')\n",
      "print(mi_buffer_data)"
     ],
     "language": "python",
     "metadata": {},
     "outputs": [
      {
       "output_type": "stream",
       "stream": "stdout",
       "text": [
        "\n",
        "MI file buffer data:\n",
        "\n",
        "[[-0.49546202 -0.50577602 -0.52939421 ..., -0.6844509  -0.68843782 -0.66854654]\n",
        " [-0.50360921 -0.50711944 -0.50876621 ..., -0.64284821 -0.66104939 -0.66213279]\n",
        " [-0.51301315 -0.51782346 -0.52081366 ..., -0.61433303 -0.64081141 -0.64687847]\n",
        " ..., \n",
        " [-0.57619724 -0.57637058 -0.57624057 ..., -0.68276079 -0.72206666 -0.75907572]\n",
        " [-0.57307703 -0.57342372 -0.57355373 ..., -0.68306414 -0.72358343 -0.72852375]\n",
        " [-0.57021685 -0.57047687 -0.5705202  ..., -0.6891312  -0.69238141 -0.70854579]]\n"
       ]
      }
     ],
     "prompt_number": 6
    },
    {
     "cell_type": "code",
     "collapsed": false,
     "input": [
      "mi_buffer_data = mi_buffer.get_data(intensity_func=magni.imaging.visualisation.stretch_image, intensity_args=(1,))\n",
      "\n",
      "print('\\nMI file buffer histogram stretched data:\\n')\n",
      "print(mi_buffer_data)"
     ],
     "language": "python",
     "metadata": {},
     "outputs": [
      {
       "output_type": "stream",
       "stream": "stdout",
       "text": [
        "\n",
        "MI file buffer histogram stretched data:\n",
        "\n",
        "[[ 0.46705762  0.45648407  0.43227154 ...,  0.2733129   0.26922564  0.28961749]\n",
        " [ 0.45870541  0.45510685  0.45341863 ...,  0.3159625   0.2973033   0.29619263]\n",
        " [ 0.44906482  0.44413346  0.44106802 ...,  0.34519526  0.31805056  0.31183082]\n",
        " ..., \n",
        " [ 0.38429073  0.38411302  0.3842463  ...,  0.27504554  0.23475054  0.19681016]\n",
        " [ 0.38748945  0.38713404  0.38700076 ...,  0.27473455  0.23319561  0.22813097]\n",
        " [ 0.39042161  0.39015505  0.39011062 ...,  0.26851482  0.26518282  0.24861167]]\n"
       ]
      }
     ],
     "prompt_number": 7
    }
   ],
   "metadata": {}
  }
 ]
}